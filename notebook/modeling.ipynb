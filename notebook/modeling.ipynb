{
 "cells": [
  {
   "cell_type": "code",
   "execution_count": 1,
   "metadata": {},
   "outputs": [],
   "source": [
    "# system\n",
    "import warnings\n",
    "import os\n",
    "\n",
    "# processing\n",
    "import pandas as pd\n",
    "import numpy as np\n",
    "import pickle\n",
    "from sklearn.preprocessing import LabelEncoder, StandardScaler, MinMaxScaler, RobustScaler\n",
    "\n",
    "# modeling\n",
    "from sklearn.model_selection import train_test_split, GridSearchCV\n",
    "from sklearn.linear_model import LogisticRegression\n",
    "from sklearn.tree import DecisionTreeClassifier, DecisionTreeRegressor\n",
    "from sklearn.ensemble import RandomForestClassifier, RandomForestRegressor, GradientBoostingRegressor, GradientBoostingClassifier\n",
    "from xgboost import XGBRegressor, XGBClassifier\n",
    "\n",
    "# performance \n",
    "from sklearn.metrics import accuracy_score, precision_score, recall_score, f1_score, roc_auc_score, r2_score, mean_squared_error,  \\\n",
    "confusion_matrix, precision_recall_fscore_support, classification_report\n",
    "\n",
    "warnings.filterwarnings(\"ignore\")\n",
    "pd.set_option('display.max_columns', None)\n",
    "%config InlineBackend.figure_format = 'retina'"
   ]
  },
  {
   "cell_type": "code",
   "execution_count": 2,
   "metadata": {},
   "outputs": [
    {
     "data": {
      "text/html": [
       "<div>\n",
       "<style scoped>\n",
       "    .dataframe tbody tr th:only-of-type {\n",
       "        vertical-align: middle;\n",
       "    }\n",
       "\n",
       "    .dataframe tbody tr th {\n",
       "        vertical-align: top;\n",
       "    }\n",
       "\n",
       "    .dataframe thead th {\n",
       "        text-align: right;\n",
       "    }\n",
       "</style>\n",
       "<table border=\"1\" class=\"dataframe\">\n",
       "  <thead>\n",
       "    <tr style=\"text-align: right;\">\n",
       "      <th></th>\n",
       "      <th>id</th>\n",
       "      <th>Gender</th>\n",
       "      <th>Age</th>\n",
       "      <th>Driving_License</th>\n",
       "      <th>Region_Code</th>\n",
       "      <th>Previously_Insured</th>\n",
       "      <th>Vehicle_Age</th>\n",
       "      <th>Vehicle_Damage</th>\n",
       "      <th>Annual_Premium</th>\n",
       "      <th>Policy_Sales_Channel</th>\n",
       "      <th>Vintage</th>\n",
       "      <th>Response</th>\n",
       "      <th>Premium_Level</th>\n",
       "      <th>Premium_Log</th>\n",
       "    </tr>\n",
       "  </thead>\n",
       "  <tbody>\n",
       "    <tr>\n",
       "      <th>0</th>\n",
       "      <td>1</td>\n",
       "      <td>1</td>\n",
       "      <td>44</td>\n",
       "      <td>1</td>\n",
       "      <td>28.0</td>\n",
       "      <td>0</td>\n",
       "      <td>3</td>\n",
       "      <td>1</td>\n",
       "      <td>40454.0</td>\n",
       "      <td>26.0</td>\n",
       "      <td>217</td>\n",
       "      <td>1</td>\n",
       "      <td>3.0</td>\n",
       "      <td>4.606961</td>\n",
       "    </tr>\n",
       "    <tr>\n",
       "      <th>1</th>\n",
       "      <td>2</td>\n",
       "      <td>1</td>\n",
       "      <td>76</td>\n",
       "      <td>1</td>\n",
       "      <td>3.0</td>\n",
       "      <td>0</td>\n",
       "      <td>2</td>\n",
       "      <td>0</td>\n",
       "      <td>33536.0</td>\n",
       "      <td>26.0</td>\n",
       "      <td>183</td>\n",
       "      <td>0</td>\n",
       "      <td>3.0</td>\n",
       "      <td>4.525511</td>\n",
       "    </tr>\n",
       "    <tr>\n",
       "      <th>2</th>\n",
       "      <td>3</td>\n",
       "      <td>1</td>\n",
       "      <td>47</td>\n",
       "      <td>1</td>\n",
       "      <td>28.0</td>\n",
       "      <td>0</td>\n",
       "      <td>3</td>\n",
       "      <td>1</td>\n",
       "      <td>38294.0</td>\n",
       "      <td>26.0</td>\n",
       "      <td>27</td>\n",
       "      <td>1</td>\n",
       "      <td>3.0</td>\n",
       "      <td>4.583131</td>\n",
       "    </tr>\n",
       "    <tr>\n",
       "      <th>3</th>\n",
       "      <td>4</td>\n",
       "      <td>1</td>\n",
       "      <td>21</td>\n",
       "      <td>1</td>\n",
       "      <td>11.0</td>\n",
       "      <td>1</td>\n",
       "      <td>1</td>\n",
       "      <td>0</td>\n",
       "      <td>28619.0</td>\n",
       "      <td>152.0</td>\n",
       "      <td>203</td>\n",
       "      <td>0</td>\n",
       "      <td>3.0</td>\n",
       "      <td>4.456654</td>\n",
       "    </tr>\n",
       "    <tr>\n",
       "      <th>4</th>\n",
       "      <td>5</td>\n",
       "      <td>0</td>\n",
       "      <td>29</td>\n",
       "      <td>1</td>\n",
       "      <td>41.0</td>\n",
       "      <td>1</td>\n",
       "      <td>1</td>\n",
       "      <td>0</td>\n",
       "      <td>27496.0</td>\n",
       "      <td>152.0</td>\n",
       "      <td>39</td>\n",
       "      <td>0</td>\n",
       "      <td>3.0</td>\n",
       "      <td>4.439270</td>\n",
       "    </tr>\n",
       "  </tbody>\n",
       "</table>\n",
       "</div>"
      ],
      "text/plain": [
       "   id  Gender  Age  Driving_License  Region_Code  Previously_Insured  \\\n",
       "0   1       1   44                1         28.0                   0   \n",
       "1   2       1   76                1          3.0                   0   \n",
       "2   3       1   47                1         28.0                   0   \n",
       "3   4       1   21                1         11.0                   1   \n",
       "4   5       0   29                1         41.0                   1   \n",
       "\n",
       "   Vehicle_Age  Vehicle_Damage  Annual_Premium  Policy_Sales_Channel  Vintage  \\\n",
       "0            3               1         40454.0                  26.0      217   \n",
       "1            2               0         33536.0                  26.0      183   \n",
       "2            3               1         38294.0                  26.0       27   \n",
       "3            1               0         28619.0                 152.0      203   \n",
       "4            1               0         27496.0                 152.0       39   \n",
       "\n",
       "   Response  Premium_Level  Premium_Log  \n",
       "0         1            3.0     4.606961  \n",
       "1         0            3.0     4.525511  \n",
       "2         1            3.0     4.583131  \n",
       "3         0            3.0     4.456654  \n",
       "4         0            3.0     4.439270  "
      ]
     },
     "execution_count": 2,
     "metadata": {},
     "output_type": "execute_result"
    }
   ],
   "source": [
    "df = pd.read_csv('../artifacts/data.csv')\n",
    "df1 = df.query('Premium_Level == 1')\n",
    "df2 = df.query('Premium_Level > 1')\n",
    "df.head()"
   ]
  },
  {
   "cell_type": "markdown",
   "metadata": {},
   "source": [
    "# Trial Approach: \n",
    "    Predicting health insurance premium using given (vehicle insurance related) parameters, and further employ that for identifying customer interest for health insurance."
   ]
  },
  {
   "cell_type": "code",
   "execution_count": 5,
   "metadata": {},
   "outputs": [],
   "source": [
    "X, y = df.drop(['id', 'Premium_Level', 'Premium_Log', 'Annual_Premium', 'Response'], axis=1), df[['Annual_Premium']]\n",
    "Xtrain, Xtest, ytrain, ytest = train_test_split(X, y, test_size=0.3, stratify=df['Premium_Level'], random_state=4)\n",
    "\n",
    "regress_perf = pd.DataFrame(columns=['model', 'rmse', 'r2'])\n",
    "categoric_perf = pd.DataFrame(columns=['model', 'precision', 'f1', 'roc-auc'])"
   ]
  },
  {
   "cell_type": "markdown",
   "metadata": {},
   "source": [
    "## TRY 1: full dataset for predicting annual premium"
   ]
  },
  {
   "cell_type": "code",
   "execution_count": 6,
   "metadata": {},
   "outputs": [],
   "source": [
    "# Define the parameter grid\n",
    "dt_grid = {\n",
    "    'max_depth': [None, 10, 20, 30, 40, 50],\n",
    "    'min_samples_split': [2, 10, 20],\n",
    "    'min_samples_leaf': [1, 5, 10]\n",
    "}\n",
    "\n",
    "# grid search with cross-validation on decision tree\n",
    "grid_search = GridSearchCV(estimator=DecisionTreeRegressor(), param_grid=dt_grid, cv=5, scoring='r2', n_jobs=-1)\n",
    "grid_search.fit(Xtrain, ytrain)\n",
    "dt1 = grid_search.best_estimator_\n",
    "\n",
    "# Evaluate the best estimator on the test set\n",
    "ypred = dt1.predict(Xtest)\n",
    "score = dt1.score(Xtest, ytest)\n",
    "print(f'dt score: {score}')\n",
    "\n",
    "rmse = mean_squared_error(ytest, ypred, squared=False)\n",
    "r2 = r2_score(ytest, ypred)\n",
    "regress_perf.loc[regress_perf.index.size] = ['dt1', rmse, r2]"
   ]
  },
  {
   "cell_type": "markdown",
   "metadata": {},
   "source": [
    "### skip grid search for rf and xgb"
   ]
  },
  {
   "cell_type": "code",
   "execution_count": null,
   "metadata": {},
   "outputs": [],
   "source": [
    "# Define the parameter grid\n",
    "rf_grid = {\n",
    "    'n_estimators': [None, 50, 100, 200],\n",
    "    'max_depth': [None, 5, 10, 20],\n",
    "    'min_samples_split': [2, 5, 10],\n",
    "    'min_samples_leaf': [1, 2, 4]\n",
    "}\n",
    "\n",
    "# Perform grid search\n",
    "grid_search = GridSearchCV(estimator=RandomForestRegressor(), param_grid=rf_grid, cv=5, scoring='r2', n_jobs=-1)\n",
    "grid_search.fit(Xtrain, ytrain)\n",
    "rf1 = grid_search.best_estimator_\n",
    "\n",
    "# Evaluate the best estimator on the test set\n",
    "ypred = dt1.predict(Xtest)\n",
    "score = dt1.score(Xtest, ytest)\n",
    "print(f'dt score: {score}')\n",
    "\n",
    "rmse = mean_squared_error(ytest, ypred, squared=False)\n",
    "r2 = r2_score(ytest, ypred)\n",
    "regress_perf.loc[regress_perf.index.size] = ['rf1', rmse, r2]"
   ]
  },
  {
   "cell_type": "code",
   "execution_count": null,
   "metadata": {},
   "outputs": [
    {
     "name": "stdout",
     "output_type": "stream",
     "text": [
      "dt score: 0.26018211734795027\n"
     ]
    }
   ],
   "source": [
    "# Evaluate the best estimator on the test set\n",
    "ypred = rf1.predict(Xtest)\n",
    "score = rf1.score(Xtest, ytest)\n",
    "print(f'dt score: {score}')\n",
    "\n",
    "rmse = mean_squared_error(ytest, ypred, squared=False)\n",
    "r2 = r2_score(ytest, ypred)\n",
    "regress_perf.loc[regress_perf.index.size] = ['rf1', rmse, r2]"
   ]
  },
  {
   "cell_type": "markdown",
   "metadata": {},
   "source": [
    "grid search with ensemble learning is consuming 360+ minutes for training. Not a viable option.\n",
    "\n",
    "\n",
    "```xgb_grid = {\n",
    "    'n_estimators': [None, 50, 100, 200],\n",
    "    'max_depth': [None, 5, 10, 20],\n",
    "    'min_samples_split': [2, 5, 10],\n",
    "    'min_samples_leaf': [1, 2, 4]\n",
    "}\n",
    "\n",
    "grid_search = GridSearchCV(estimator=XGBRegressor(), param_grid=xgb_grid, cv=5, scoring='r2', n_jobs=-1)\n",
    "grid_search.fit(Xtrain, ytrain)\n",
    "xgb1 = grid_search.best_estimator_\n",
    "\n",
    "# Evaluate the best estimator on the test set\n",
    "ypred = xgb1.predict(Xtest)\n",
    "score = xgb1.score(Xtest, ytest)\n",
    "print(f'dt score: {score}')\n",
    "\n",
    "rmse = mean_squared_error(ytest, ypred, squared=False)\n",
    "r2 = r2_score(ytest, ypred)\n",
    "regress_perf.loc[regress_perf.index.size] = ['xgb1', rmse, r2]\n",
    "```"
   ]
  },
  {
   "cell_type": "markdown",
   "metadata": {},
   "source": [
    "### skipped"
   ]
  },
  {
   "cell_type": "code",
   "execution_count": null,
   "metadata": {},
   "outputs": [
    {
     "name": "stdout",
     "output_type": "stream",
     "text": [
      "RandomForestRegressor R² score: 0.10834084706163039\n",
      "GradientBoostingRegressor R² score: 0.2495598683995286\n"
     ]
    }
   ],
   "source": [
    "# Try RandomForestRegressor\n",
    "rf1 = RandomForestRegressor()\n",
    "rf1.fit(Xtrain, ytrain)\n",
    "rf1_score = rf1.score(Xtest, ytest)\n",
    "print(f'RandomForestRegressor R² score: {rf1_score}')\n",
    "\n",
    "ypred = rf1.predict(Xtest)\n",
    "rmse = mean_squared_error(ytest, ypred, squared=False)\n",
    "r2 = r2_score(ytest, ypred)\n",
    "regress_perf.loc[regress_perf.index.size] = ['rf1', rmse, r2]\n",
    "\n",
    "\n",
    "# Try GradientBoostingRegressor\n",
    "xgb1 = GradientBoostingRegressor()\n",
    "xgb1.fit(Xtrain, ytrain)\n",
    "xgb1_score = xgb1.score(Xtest, ytest)\n",
    "print(f'GradientBoostingRegressor R² score: {xgb1_score}')\n",
    "\n",
    "ypred = xgb1.predict(Xtest)\n",
    "rmse = mean_squared_error(ytest, ypred, squared=False)\n",
    "r2 = r2_score(ytest, ypred)\n",
    "regress_perf.loc[regress_perf.index.size] = ['xgb1', rmse, r2]"
   ]
  },
  {
   "cell_type": "markdown",
   "metadata": {},
   "source": [
    "## TRY 2: full dataset for predicting log10 of premium"
   ]
  },
  {
   "cell_type": "code",
   "execution_count": null,
   "metadata": {},
   "outputs": [],
   "source": [
    "X, y = df.drop(['id', 'Premium_Level', 'Premium_Log', 'Annual_Premium', 'Response'], axis=1), df[['Premium_Log']]\n",
    "Xtrain, Xtest, ytrain, ytest = train_test_split(X, y, test_size=0.3, stratify=df['Premium_Level'], random_state=4)"
   ]
  },
  {
   "cell_type": "code",
   "execution_count": null,
   "metadata": {},
   "outputs": [
    {
     "name": "stdout",
     "output_type": "stream",
     "text": [
      "dt score: 0.3098752356183905\n"
     ]
    }
   ],
   "source": [
    "# Define the parameter grid\n",
    "dt_grid = {\n",
    "    'max_depth': [None, 10, 20, 30, 40, 50],\n",
    "    'min_samples_split': [2, 10, 20],\n",
    "    'min_samples_leaf': [1, 5, 10]\n",
    "}\n",
    "\n",
    "# grid search with cross-validation on decision tree\n",
    "grid_search = GridSearchCV(estimator=DecisionTreeRegressor(), param_grid=dt_grid, cv=5, scoring='r2', n_jobs=-1)\n",
    "grid_search.fit(Xtrain, ytrain)\n",
    "dt2 = grid_search.best_estimator_\n",
    "\n",
    "# Evaluate the best estimator on the test set\n",
    "ypred = dt2.predict(Xtest)\n",
    "score = dt2.score(Xtest, ytest)\n",
    "print(f'dt score: {score}')\n",
    "\n",
    "rmse = mean_squared_error(ytest, ypred, squared=False)\n",
    "r2 = r2_score(ytest, ypred)\n",
    "regress_perf.loc[regress_perf.index.size] = ['dt2', rmse, r2]"
   ]
  },
  {
   "cell_type": "code",
   "execution_count": null,
   "metadata": {},
   "outputs": [
    {
     "name": "stdout",
     "output_type": "stream",
     "text": [
      "RandomForestRegressor R² score: 0.1982139141502972\n",
      "GradientBoostingRegressor R² score: 0.3070919729579141\n"
     ]
    }
   ],
   "source": [
    "# Try RandomForestRegressor\n",
    "rf2 = RandomForestRegressor()\n",
    "rf2.fit(Xtrain, ytrain)\n",
    "rf2_score = rf2.score(Xtest, ytest)\n",
    "print(f'RandomForestRegressor R² score: {rf2_score}')\n",
    "\n",
    "ypred = rf2.predict(Xtest)\n",
    "rmse = mean_squared_error(ytest, ypred, squared=False)\n",
    "r2 = r2_score(ytest, ypred)\n",
    "regress_perf.loc[regress_perf.index.size] = ['rf2', rmse, r2]\n",
    "\n",
    "\n",
    "# Try GradientBoostingRegressor\n",
    "xgb2 = GradientBoostingRegressor()\n",
    "xgb2.fit(Xtrain, ytrain)\n",
    "xgb2_score = xgb2.score(Xtest, ytest)\n",
    "print(f'GradientBoostingRegressor R² score: {xgb2_score}')\n",
    "\n",
    "ypred = xgb2.predict(Xtest)\n",
    "rmse = mean_squared_error(ytest, ypred, squared=False)\n",
    "r2 = r2_score(ytest, ypred)\n",
    "regress_perf.loc[regress_perf.index.size] = ['xgb2', rmse, r2]"
   ]
  },
  {
   "cell_type": "code",
   "execution_count": null,
   "metadata": {},
   "outputs": [
    {
     "data": {
      "text/html": [
       "<div>\n",
       "<style scoped>\n",
       "    .dataframe tbody tr th:only-of-type {\n",
       "        vertical-align: middle;\n",
       "    }\n",
       "\n",
       "    .dataframe tbody tr th {\n",
       "        vertical-align: top;\n",
       "    }\n",
       "\n",
       "    .dataframe thead th {\n",
       "        text-align: right;\n",
       "    }\n",
       "</style>\n",
       "<table border=\"1\" class=\"dataframe\">\n",
       "  <thead>\n",
       "    <tr style=\"text-align: right;\">\n",
       "      <th></th>\n",
       "      <th>model</th>\n",
       "      <th>rmse</th>\n",
       "      <th>r2</th>\n",
       "    </tr>\n",
       "  </thead>\n",
       "  <tbody>\n",
       "    <tr>\n",
       "      <th>0</th>\n",
       "      <td>dt1</td>\n",
       "      <td>14960.705996</td>\n",
       "      <td>0.255642</td>\n",
       "    </tr>\n",
       "    <tr>\n",
       "      <th>1</th>\n",
       "      <td>rf1</td>\n",
       "      <td>16374.220035</td>\n",
       "      <td>0.108341</td>\n",
       "    </tr>\n",
       "    <tr>\n",
       "      <th>2</th>\n",
       "      <td>xgb1</td>\n",
       "      <td>15021.704399</td>\n",
       "      <td>0.249560</td>\n",
       "    </tr>\n",
       "    <tr>\n",
       "      <th>3</th>\n",
       "      <td>dt2</td>\n",
       "      <td>0.362759</td>\n",
       "      <td>0.309875</td>\n",
       "    </tr>\n",
       "    <tr>\n",
       "      <th>4</th>\n",
       "      <td>rf2</td>\n",
       "      <td>0.391006</td>\n",
       "      <td>0.198214</td>\n",
       "    </tr>\n",
       "    <tr>\n",
       "      <th>5</th>\n",
       "      <td>xgb2</td>\n",
       "      <td>0.363489</td>\n",
       "      <td>0.307092</td>\n",
       "    </tr>\n",
       "  </tbody>\n",
       "</table>\n",
       "</div>"
      ],
      "text/plain": [
       "  model          rmse        r2\n",
       "0   dt1  14960.705996  0.255642\n",
       "1   rf1  16374.220035  0.108341\n",
       "2  xgb1  15021.704399  0.249560\n",
       "3   dt2      0.362759  0.309875\n",
       "4   rf2      0.391006  0.198214\n",
       "5  xgb2      0.363489  0.307092"
      ]
     },
     "execution_count": 9,
     "metadata": {},
     "output_type": "execute_result"
    }
   ],
   "source": [
    "regress_perf"
   ]
  },
  {
   "cell_type": "markdown",
   "metadata": {},
   "source": [
    "Log10 has improved the model performance."
   ]
  },
  {
   "cell_type": "markdown",
   "metadata": {},
   "source": [
    "## TRY 3: dataset excluding anomlies premium"
   ]
  },
  {
   "cell_type": "code",
   "execution_count": null,
   "metadata": {},
   "outputs": [],
   "source": [
    "X, y = df2.drop(['id', 'Premium_Level', 'Premium_Log', 'Annual_Premium', 'Response'], axis=1), df2[['Premium_Log']]\n",
    "Xtrain, Xtest, ytrain, ytest = train_test_split(X, y, test_size=0.3, stratify=df2['Premium_Level'], random_state=4)"
   ]
  },
  {
   "cell_type": "code",
   "execution_count": null,
   "metadata": {},
   "outputs": [
    {
     "name": "stdout",
     "output_type": "stream",
     "text": [
      "dt score: 0.21753082078076968\n"
     ]
    }
   ],
   "source": [
    "# Define the parameter grid\n",
    "dt_grid = {\n",
    "    'max_depth': [None, 10, 20, 30, 40, 50],\n",
    "    'min_samples_split': [2, 10, 20],\n",
    "    'min_samples_leaf': [1, 5, 10]\n",
    "}\n",
    "\n",
    "# grid search with cross-validation on decision tree\n",
    "grid_search = GridSearchCV(estimator=DecisionTreeRegressor(), param_grid=dt_grid, cv=5, scoring='r2', n_jobs=-1)\n",
    "grid_search.fit(Xtrain, ytrain)\n",
    "dt3 = grid_search.best_estimator_\n",
    "\n",
    "# Evaluate the best estimator on the test set\n",
    "ypred = dt3.predict(Xtest)\n",
    "score = dt3.score(Xtest, ytest)\n",
    "print(f'dt score: {score}')\n",
    "\n",
    "rmse = mean_squared_error(ytest, ypred, squared=False)\n",
    "r2 = r2_score(ytest, ypred)\n",
    "regress_perf.loc[regress_perf.index.size] = ['dt3', rmse, r2]"
   ]
  },
  {
   "cell_type": "code",
   "execution_count": null,
   "metadata": {},
   "outputs": [
    {
     "name": "stdout",
     "output_type": "stream",
     "text": [
      "RandomForestRegressor R² score: 0.05642608188031806\n",
      "GradientBoostingRegressor R² score: 0.2175443918623583\n"
     ]
    }
   ],
   "source": [
    "# Try RandomForestRegressor\n",
    "rf3 = RandomForestRegressor()\n",
    "rf3.fit(Xtrain, ytrain)\n",
    "rf3_score = rf3.score(Xtest, ytest)\n",
    "print(f'RandomForestRegressor R² score: {rf3_score}')\n",
    "\n",
    "ypred = rf3.predict(Xtest)\n",
    "rmse = mean_squared_error(ytest, ypred, squared=False)\n",
    "r2 = r2_score(ytest, ypred)\n",
    "regress_perf.loc[regress_perf.index.size] = ['rf3', rmse, r2]\n",
    "\n",
    "\n",
    "# Try GradientBoostingRegressor\n",
    "xgb3 = GradientBoostingRegressor()\n",
    "xgb3.fit(Xtrain, ytrain)\n",
    "xgb3_score = xgb3.score(Xtest, ytest)\n",
    "print(f'GradientBoostingRegressor R² score: {xgb3_score}')\n",
    "\n",
    "ypred = xgb3.predict(Xtest)\n",
    "rmse = mean_squared_error(ytest, ypred, squared=False)\n",
    "r2 = r2_score(ytest, ypred)\n",
    "regress_perf.loc[regress_perf.index.size] = ['xgb3', rmse, r2]"
   ]
  },
  {
   "cell_type": "code",
   "execution_count": null,
   "metadata": {},
   "outputs": [
    {
     "data": {
      "text/html": [
       "<div>\n",
       "<style scoped>\n",
       "    .dataframe tbody tr th:only-of-type {\n",
       "        vertical-align: middle;\n",
       "    }\n",
       "\n",
       "    .dataframe tbody tr th {\n",
       "        vertical-align: top;\n",
       "    }\n",
       "\n",
       "    .dataframe thead th {\n",
       "        text-align: right;\n",
       "    }\n",
       "</style>\n",
       "<table border=\"1\" class=\"dataframe\">\n",
       "  <thead>\n",
       "    <tr style=\"text-align: right;\">\n",
       "      <th></th>\n",
       "      <th>model</th>\n",
       "      <th>rmse</th>\n",
       "      <th>r2</th>\n",
       "    </tr>\n",
       "  </thead>\n",
       "  <tbody>\n",
       "    <tr>\n",
       "      <th>0</th>\n",
       "      <td>dt1</td>\n",
       "      <td>14960.705996</td>\n",
       "      <td>0.255642</td>\n",
       "    </tr>\n",
       "    <tr>\n",
       "      <th>1</th>\n",
       "      <td>rf1</td>\n",
       "      <td>16374.220035</td>\n",
       "      <td>0.108341</td>\n",
       "    </tr>\n",
       "    <tr>\n",
       "      <th>2</th>\n",
       "      <td>xgb1</td>\n",
       "      <td>15021.704399</td>\n",
       "      <td>0.249560</td>\n",
       "    </tr>\n",
       "    <tr>\n",
       "      <th>3</th>\n",
       "      <td>dt2</td>\n",
       "      <td>0.362759</td>\n",
       "      <td>0.309875</td>\n",
       "    </tr>\n",
       "    <tr>\n",
       "      <th>4</th>\n",
       "      <td>rf2</td>\n",
       "      <td>0.391006</td>\n",
       "      <td>0.198214</td>\n",
       "    </tr>\n",
       "    <tr>\n",
       "      <th>5</th>\n",
       "      <td>xgb2</td>\n",
       "      <td>0.363489</td>\n",
       "      <td>0.307092</td>\n",
       "    </tr>\n",
       "    <tr>\n",
       "      <th>6</th>\n",
       "      <td>dt3</td>\n",
       "      <td>0.112231</td>\n",
       "      <td>0.217531</td>\n",
       "    </tr>\n",
       "    <tr>\n",
       "      <th>7</th>\n",
       "      <td>rf3</td>\n",
       "      <td>0.123245</td>\n",
       "      <td>0.056426</td>\n",
       "    </tr>\n",
       "    <tr>\n",
       "      <th>8</th>\n",
       "      <td>xgb3</td>\n",
       "      <td>0.112230</td>\n",
       "      <td>0.217544</td>\n",
       "    </tr>\n",
       "  </tbody>\n",
       "</table>\n",
       "</div>"
      ],
      "text/plain": [
       "  model          rmse        r2\n",
       "0   dt1  14960.705996  0.255642\n",
       "1   rf1  16374.220035  0.108341\n",
       "2  xgb1  15021.704399  0.249560\n",
       "3   dt2      0.362759  0.309875\n",
       "4   rf2      0.391006  0.198214\n",
       "5  xgb2      0.363489  0.307092\n",
       "6   dt3      0.112231  0.217531\n",
       "7   rf3      0.123245  0.056426\n",
       "8  xgb3      0.112230  0.217544"
      ]
     },
     "execution_count": 13,
     "metadata": {},
     "output_type": "execute_result"
    }
   ],
   "source": [
    "regress_perf"
   ]
  },
  {
   "cell_type": "markdown",
   "metadata": {},
   "source": [
    "The model performance without anomoly data is reduced, indicating that the old models were predicting and performing good moslty the annomly records."
   ]
  },
  {
   "cell_type": "markdown",
   "metadata": {},
   "source": [
    "## TRY 4: Predict Premium Level followed by annual premium with predicted premium level"
   ]
  },
  {
   "cell_type": "code",
   "execution_count": null,
   "metadata": {},
   "outputs": [],
   "source": [
    "X, y = df2.drop(['id', 'Premium_Level', 'Premium_Log', 'Annual_Premium', 'Response'], axis=1), df2[['Premium_Level']]\n",
    "Xtrain, Xtest, ytrain, ytest = train_test_split(X, y, test_size=0.3, stratify=y, random_state=4)"
   ]
  },
  {
   "cell_type": "code",
   "execution_count": null,
   "metadata": {},
   "outputs": [
    {
     "name": "stdout",
     "output_type": "stream",
     "text": [
      "Best decision tree f1 score: 0.9183514282702646\n"
     ]
    }
   ],
   "source": [
    "# parameter options to fit model\n",
    "param_grid = {\n",
    "    'max_depth': [None, 10, 20, 30, 40, 50],\n",
    "    'min_samples_split': [2, 10, 20],\n",
    "    'min_samples_leaf': [1, 5, 10]\n",
    "}\n",
    "\n",
    "# Initialize the grid search\n",
    "grid_search = GridSearchCV(estimator=DecisionTreeClassifier(), param_grid=param_grid, cv=5, scoring='f1', n_jobs=-1)\n",
    "grid_search.fit(Xtrain, ytrain)\n",
    "dtc1 = grid_search.best_estimator_\n",
    "\n",
    "# evaluate the best estimator on the test set\n",
    "ypred = dtc1.predict(Xtest)\n",
    "score = dtc1.score(Xtest, ytest)\n",
    "yproba = dtc1.predict_proba(Xtest)\n",
    "print(f'Best decision tree f1 score: {score}')\n",
    "\n",
    "prec = [round(scr, 4) for scr in precision_score(ytest, ypred, average=None)]\n",
    "f1 = [round(scr, 4) for scr in f1_score(ytest, ypred, average=None)]\n",
    "roc = round(roc_auc_score(ytest, yproba, multi_class='ovr'), 4)\n",
    "categoric_perf.loc[categoric_perf.index.size] = ['dtc1', prec, f1, roc]"
   ]
  },
  {
   "cell_type": "code",
   "execution_count": null,
   "metadata": {},
   "outputs": [
    {
     "name": "stdout",
     "output_type": "stream",
     "text": [
      "RandomForestClassifier accuracy score: 0.945767892906082\n",
      "GradientBoostingClassifier accuracy score: 0.9573416253821018\n"
     ]
    }
   ],
   "source": [
    "# Try Random Forest\n",
    "rfc1 = RandomForestClassifier()\n",
    "rfc1.fit(Xtrain, ytrain)\n",
    "rfc1_score = rfc1.score(Xtest, ytest)\n",
    "print(f'RandomForestClassifier accuracy score: {rfc1_score}')\n",
    "\n",
    "# evaluate the best estimator on the test set\n",
    "ypred = rfc1.predict(Xtest)\n",
    "yproba = rfc1.predict_proba(Xtest)\n",
    "prec = [round(scr, 4) for scr in precision_score(ytest, ypred, average=None)]\n",
    "f1 = [round(scr, 3) for scr in f1_score(ytest, ypred, average=None)]\n",
    "roc = round(roc_auc_score(ytest, yproba, multi_class='ovr'), 4)\n",
    "categoric_perf.loc[categoric_perf.index.size] = ['rfc1', prec, f1, roc]\n",
    "\n",
    "\n",
    "# Try Gradient Boosting\n",
    "gbc1 = GradientBoostingClassifier()\n",
    "gbc1.fit(Xtrain, ytrain)\n",
    "gbc1_score = gbc1.score(Xtest, ytest)\n",
    "print(f'GradientBoostingClassifier accuracy score: {gbc1_score}')\n",
    "\n",
    "# evaluate the best estimator on the test set\n",
    "ypred = gbc1.predict(Xtest)\n",
    "yproba = gbc1.predict_proba(Xtest)\n",
    "prec = [round(scr, 4) for scr in precision_score(ytest, ypred, average=None)]\n",
    "f1 = [round(scr, 3) for scr in f1_score(ytest, ypred, average=None)]\n",
    "roc = round(roc_auc_score(ytest, yproba, multi_class='ovr'), 4)\n",
    "categoric_perf.loc[categoric_perf.index.size] = ['gbc1', prec, f1, roc]"
   ]
  },
  {
   "cell_type": "code",
   "execution_count": null,
   "metadata": {},
   "outputs": [
    {
     "data": {
      "text/html": [
       "<div>\n",
       "<style scoped>\n",
       "    .dataframe tbody tr th:only-of-type {\n",
       "        vertical-align: middle;\n",
       "    }\n",
       "\n",
       "    .dataframe tbody tr th {\n",
       "        vertical-align: top;\n",
       "    }\n",
       "\n",
       "    .dataframe thead th {\n",
       "        text-align: right;\n",
       "    }\n",
       "</style>\n",
       "<table border=\"1\" class=\"dataframe\">\n",
       "  <thead>\n",
       "    <tr style=\"text-align: right;\">\n",
       "      <th></th>\n",
       "      <th>model</th>\n",
       "      <th>precision</th>\n",
       "      <th>f1</th>\n",
       "      <th>roc-auc</th>\n",
       "    </tr>\n",
       "  </thead>\n",
       "  <tbody>\n",
       "    <tr>\n",
       "      <th>0</th>\n",
       "      <td>dtc1</td>\n",
       "      <td>[0.0122, 0.9587, 0.0761, 0.0058]</td>\n",
       "      <td>[0.0144, 0.9575, 0.0765, 0.0063]</td>\n",
       "      <td>0.5135</td>\n",
       "    </tr>\n",
       "    <tr>\n",
       "      <th>1</th>\n",
       "      <td>rfc1</td>\n",
       "      <td>[0.0133, 0.958, 0.0821, 0.0233]</td>\n",
       "      <td>[0.004, 0.972, 0.042, 0.011]</td>\n",
       "      <td>0.5708</td>\n",
       "    </tr>\n",
       "    <tr>\n",
       "      <th>2</th>\n",
       "      <td>gbc1</td>\n",
       "      <td>[0.0, 0.9574, 0.0, 0.3333]</td>\n",
       "      <td>[0.0, 0.978, 0.0, 0.013]</td>\n",
       "      <td>0.7526</td>\n",
       "    </tr>\n",
       "  </tbody>\n",
       "</table>\n",
       "</div>"
      ],
      "text/plain": [
       "  model                         precision                                f1  \\\n",
       "0  dtc1  [0.0122, 0.9587, 0.0761, 0.0058]  [0.0144, 0.9575, 0.0765, 0.0063]   \n",
       "1  rfc1   [0.0133, 0.958, 0.0821, 0.0233]      [0.004, 0.972, 0.042, 0.011]   \n",
       "2  gbc1        [0.0, 0.9574, 0.0, 0.3333]          [0.0, 0.978, 0.0, 0.013]   \n",
       "\n",
       "   roc-auc  \n",
       "0   0.5135  \n",
       "1   0.5708  \n",
       "2   0.7526  "
      ]
     },
     "execution_count": 17,
     "metadata": {},
     "output_type": "execute_result"
    }
   ],
   "source": [
    "categoric_perf"
   ]
  },
  {
   "cell_type": "code",
   "execution_count": null,
   "metadata": {},
   "outputs": [
    {
     "data": {
      "text/plain": [
       "Premium_Level\n",
       "3.0              302750\n",
       "4.0               11672\n",
       "2.0                1323\n",
       "5.0                 487\n",
       "dtype: int64"
      ]
     },
     "execution_count": 18,
     "metadata": {},
     "output_type": "execute_result"
    }
   ],
   "source": [
    "y.value_counts()"
   ]
  },
  {
   "cell_type": "markdown",
   "metadata": {},
   "source": [
    "    The model can further be impproved with hyperparameter tunning, however given the finite resource and time predicting health insurance premium using vehicle insurance related parameters is put on-hold."
   ]
  },
  {
   "cell_type": "markdown",
   "metadata": {},
   "source": [
    "# Vehical Insurance Interest Prediction"
   ]
  },
  {
   "cell_type": "code",
   "execution_count": 3,
   "metadata": {},
   "outputs": [
    {
     "data": {
      "text/html": [
       "<div>\n",
       "<style scoped>\n",
       "    .dataframe tbody tr th:only-of-type {\n",
       "        vertical-align: middle;\n",
       "    }\n",
       "\n",
       "    .dataframe tbody tr th {\n",
       "        vertical-align: top;\n",
       "    }\n",
       "\n",
       "    .dataframe thead th {\n",
       "        text-align: right;\n",
       "    }\n",
       "</style>\n",
       "<table border=\"1\" class=\"dataframe\">\n",
       "  <thead>\n",
       "    <tr style=\"text-align: right;\">\n",
       "      <th></th>\n",
       "      <th>id</th>\n",
       "      <th>Gender</th>\n",
       "      <th>Age</th>\n",
       "      <th>Driving_License</th>\n",
       "      <th>Region_Code</th>\n",
       "      <th>Previously_Insured</th>\n",
       "      <th>Vehicle_Age</th>\n",
       "      <th>Vehicle_Damage</th>\n",
       "      <th>Annual_Premium</th>\n",
       "      <th>Policy_Sales_Channel</th>\n",
       "      <th>Vintage</th>\n",
       "      <th>Response</th>\n",
       "      <th>Premium_Level</th>\n",
       "      <th>Premium_Log</th>\n",
       "    </tr>\n",
       "  </thead>\n",
       "  <tbody>\n",
       "    <tr>\n",
       "      <th>0</th>\n",
       "      <td>1</td>\n",
       "      <td>1</td>\n",
       "      <td>44</td>\n",
       "      <td>1</td>\n",
       "      <td>28.0</td>\n",
       "      <td>0</td>\n",
       "      <td>3</td>\n",
       "      <td>1</td>\n",
       "      <td>40454.0</td>\n",
       "      <td>26.0</td>\n",
       "      <td>217</td>\n",
       "      <td>1</td>\n",
       "      <td>3.0</td>\n",
       "      <td>4.606961</td>\n",
       "    </tr>\n",
       "    <tr>\n",
       "      <th>1</th>\n",
       "      <td>2</td>\n",
       "      <td>1</td>\n",
       "      <td>76</td>\n",
       "      <td>1</td>\n",
       "      <td>3.0</td>\n",
       "      <td>0</td>\n",
       "      <td>2</td>\n",
       "      <td>0</td>\n",
       "      <td>33536.0</td>\n",
       "      <td>26.0</td>\n",
       "      <td>183</td>\n",
       "      <td>0</td>\n",
       "      <td>3.0</td>\n",
       "      <td>4.525511</td>\n",
       "    </tr>\n",
       "    <tr>\n",
       "      <th>2</th>\n",
       "      <td>3</td>\n",
       "      <td>1</td>\n",
       "      <td>47</td>\n",
       "      <td>1</td>\n",
       "      <td>28.0</td>\n",
       "      <td>0</td>\n",
       "      <td>3</td>\n",
       "      <td>1</td>\n",
       "      <td>38294.0</td>\n",
       "      <td>26.0</td>\n",
       "      <td>27</td>\n",
       "      <td>1</td>\n",
       "      <td>3.0</td>\n",
       "      <td>4.583131</td>\n",
       "    </tr>\n",
       "    <tr>\n",
       "      <th>3</th>\n",
       "      <td>4</td>\n",
       "      <td>1</td>\n",
       "      <td>21</td>\n",
       "      <td>1</td>\n",
       "      <td>11.0</td>\n",
       "      <td>1</td>\n",
       "      <td>1</td>\n",
       "      <td>0</td>\n",
       "      <td>28619.0</td>\n",
       "      <td>152.0</td>\n",
       "      <td>203</td>\n",
       "      <td>0</td>\n",
       "      <td>3.0</td>\n",
       "      <td>4.456654</td>\n",
       "    </tr>\n",
       "    <tr>\n",
       "      <th>4</th>\n",
       "      <td>5</td>\n",
       "      <td>0</td>\n",
       "      <td>29</td>\n",
       "      <td>1</td>\n",
       "      <td>41.0</td>\n",
       "      <td>1</td>\n",
       "      <td>1</td>\n",
       "      <td>0</td>\n",
       "      <td>27496.0</td>\n",
       "      <td>152.0</td>\n",
       "      <td>39</td>\n",
       "      <td>0</td>\n",
       "      <td>3.0</td>\n",
       "      <td>4.439270</td>\n",
       "    </tr>\n",
       "  </tbody>\n",
       "</table>\n",
       "</div>"
      ],
      "text/plain": [
       "   id  Gender  Age  Driving_License  Region_Code  Previously_Insured  \\\n",
       "0   1       1   44                1         28.0                   0   \n",
       "1   2       1   76                1          3.0                   0   \n",
       "2   3       1   47                1         28.0                   0   \n",
       "3   4       1   21                1         11.0                   1   \n",
       "4   5       0   29                1         41.0                   1   \n",
       "\n",
       "   Vehicle_Age  Vehicle_Damage  Annual_Premium  Policy_Sales_Channel  Vintage  \\\n",
       "0            3               1         40454.0                  26.0      217   \n",
       "1            2               0         33536.0                  26.0      183   \n",
       "2            3               1         38294.0                  26.0       27   \n",
       "3            1               0         28619.0                 152.0      203   \n",
       "4            1               0         27496.0                 152.0       39   \n",
       "\n",
       "   Response  Premium_Level  Premium_Log  \n",
       "0         1            3.0     4.606961  \n",
       "1         0            3.0     4.525511  \n",
       "2         1            3.0     4.583131  \n",
       "3         0            3.0     4.456654  \n",
       "4         0            3.0     4.439270  "
      ]
     },
     "execution_count": 3,
     "metadata": {},
     "output_type": "execute_result"
    }
   ],
   "source": [
    "df2.head()"
   ]
  },
  {
   "cell_type": "code",
   "execution_count": 4,
   "metadata": {},
   "outputs": [],
   "source": [
    "# customer interest prediction models performance\n",
    "interest_perf = pd.DataFrame(columns=['model', 'precision', 'f1', 'roc'])\n",
    "X, y = df2.drop(columns=['Response']), df2['Response']\n",
    "Xtrain, Xtest, ytrain, ytest = train_test_split(X, y, test_size=0.2, stratify=df2[['Response']], random_state=4)"
   ]
  },
  {
   "cell_type": "code",
   "execution_count": 5,
   "metadata": {},
   "outputs": [
    {
     "data": {
      "text/plain": [
       "array([0, 1], dtype=int64)"
      ]
     },
     "execution_count": 5,
     "metadata": {},
     "output_type": "execute_result"
    }
   ],
   "source": [
    "np.unique(ytest)"
   ]
  },
  {
   "cell_type": "code",
   "execution_count": 6,
   "metadata": {},
   "outputs": [
    {
     "name": "stdout",
     "output_type": "stream",
     "text": [
      "default lr accuracy: 0.8791879456733126\n"
     ]
    }
   ],
   "source": [
    "lr = LogisticRegression()\n",
    "lr.fit(Xtrain, ytrain)\n",
    "ypred = lr.predict(Xtest)\n",
    "\n",
    "score = lr.score(Xtest, ytest)\n",
    "ypred = lr.predict(Xtest)\n",
    "print(f'default lr accuracy: {score}')\n",
    "\n",
    "prec = [round(scr, 4) for scr in precision_score(ytest, ypred, average=None)]\n",
    "f1 = [round(scr, 4) for scr in f1_score(ytest, ypred, average=None)]\n",
    "roc = round(roc_auc_score(ytest, ypred, multi_class='ovr'), 4)\n",
    "interest_perf.loc[interest_perf.index.size] = ['lr', prec, f1, roc]"
   ]
  },
  {
   "cell_type": "code",
   "execution_count": 7,
   "metadata": {},
   "outputs": [
    {
     "data": {
      "text/plain": [
       "{'C': 1.0,\n",
       " 'class_weight': None,\n",
       " 'dual': False,\n",
       " 'fit_intercept': True,\n",
       " 'intercept_scaling': 1,\n",
       " 'l1_ratio': None,\n",
       " 'max_iter': 100,\n",
       " 'multi_class': 'auto',\n",
       " 'n_jobs': None,\n",
       " 'penalty': 'l2',\n",
       " 'random_state': None,\n",
       " 'solver': 'lbfgs',\n",
       " 'tol': 0.0001,\n",
       " 'verbose': 0,\n",
       " 'warm_start': False}"
      ]
     },
     "execution_count": 7,
     "metadata": {},
     "output_type": "execute_result"
    }
   ],
   "source": [
    "lr.get_params()"
   ]
  },
  {
   "cell_type": "code",
   "execution_count": 8,
   "metadata": {},
   "outputs": [
    {
     "name": "stdout",
     "output_type": "stream",
     "text": [
      "best lr accuracy: 0.6311761822695148\n"
     ]
    }
   ],
   "source": [
    "# estimate time: atleast 72(=3*4*1*3*2) times more than lr (without grid search)\n",
    "lr_grid = {\n",
    "    'C': [0.1, 1, 10],\n",
    "    'penalty': ['l1', 'l2', 'elasticnet', 'none'],\n",
    "    'solver': ['lbfgs'],\n",
    "    'max_iter': [100, 200, 300],\n",
    "    'class_weight': [None, 'balanced']\n",
    "}\n",
    "\n",
    "grid_search = GridSearchCV(LogisticRegression(), param_grid=lr_grid, cv=5, scoring='f1', n_jobs=-1)\n",
    "grid_search.fit(Xtrain, ytrain)\n",
    "int_lr = grid_search.best_estimator_\n",
    "\n",
    "# evaluate the best estimator on the test set\n",
    "ypred = int_lr.predict(Xtest)\n",
    "acc = accuracy_score(ytest, ypred)\n",
    "print(f'best lr accuracy: {acc}')\n",
    "\n",
    "prec = [round(scr, 4) for scr in precision_score(ytest, ypred, average=None)]\n",
    "f1 = [round(scr, 4) for scr in f1_score(ytest, ypred, average=None)]\n",
    "roc = round(roc_auc_score(ytest, ypred, multi_class='ovr'), 4)\n",
    "interest_perf.loc[interest_perf.index.size] = ['int_lr', prec, f1, roc]"
   ]
  },
  {
   "cell_type": "code",
   "execution_count": 9,
   "metadata": {},
   "outputs": [
    {
     "data": {
      "text/html": [
       "<div>\n",
       "<style scoped>\n",
       "    .dataframe tbody tr th:only-of-type {\n",
       "        vertical-align: middle;\n",
       "    }\n",
       "\n",
       "    .dataframe tbody tr th {\n",
       "        vertical-align: top;\n",
       "    }\n",
       "\n",
       "    .dataframe thead th {\n",
       "        text-align: right;\n",
       "    }\n",
       "</style>\n",
       "<table border=\"1\" class=\"dataframe\">\n",
       "  <thead>\n",
       "    <tr style=\"text-align: right;\">\n",
       "      <th></th>\n",
       "      <th>model</th>\n",
       "      <th>precision</th>\n",
       "      <th>f1</th>\n",
       "      <th>roc</th>\n",
       "    </tr>\n",
       "  </thead>\n",
       "  <tbody>\n",
       "    <tr>\n",
       "      <th>0</th>\n",
       "      <td>lr</td>\n",
       "      <td>[0.8792, 0.0]</td>\n",
       "      <td>[0.9357, 0.0]</td>\n",
       "      <td>0.5000</td>\n",
       "    </tr>\n",
       "    <tr>\n",
       "      <th>1</th>\n",
       "      <td>int_lr</td>\n",
       "      <td>[0.9128, 0.1752]</td>\n",
       "      <td>[0.7537, 0.2661]</td>\n",
       "      <td>0.5977</td>\n",
       "    </tr>\n",
       "  </tbody>\n",
       "</table>\n",
       "</div>"
      ],
      "text/plain": [
       "    model         precision                f1     roc\n",
       "0      lr     [0.8792, 0.0]     [0.9357, 0.0]  0.5000\n",
       "1  int_lr  [0.9128, 0.1752]  [0.7537, 0.2661]  0.5977"
      ]
     },
     "execution_count": 9,
     "metadata": {},
     "output_type": "execute_result"
    }
   ],
   "source": [
    "interest_perf"
   ]
  },
  {
   "cell_type": "code",
   "execution_count": 10,
   "metadata": {},
   "outputs": [
    {
     "name": "stdout",
     "output_type": "stream",
     "text": [
      "default decision tree accuracy: 0.8261419513969042\n"
     ]
    }
   ],
   "source": [
    "# training decision tree on default parameters\n",
    "dt = DecisionTreeClassifier()\n",
    "dt.fit(Xtrain, ytrain)\n",
    "\n",
    "ypred = dt.predict(Xtest)\n",
    "acc = accuracy_score(ytest, ypred)\n",
    "print(f'default decision tree accuracy: {acc}')\n",
    "\n",
    "# performance table\n",
    "prec = [round(scr, 4) for scr in precision_score(ytest, ypred, average=None)]\n",
    "f1 = [round(scr, 4) for scr in f1_score(ytest, ypred, average=None)]\n",
    "roc = round(roc_auc_score(ytest, ypred, multi_class='ovr'), 4)\n",
    "interest_perf.loc[interest_perf.index.size] = ['dt', prec, f1, roc]"
   ]
  },
  {
   "cell_type": "code",
   "execution_count": 11,
   "metadata": {},
   "outputs": [
    {
     "name": "stdout",
     "output_type": "stream",
     "text": [
      "default decision tree accuracy: 0.8259838411308046\n"
     ]
    }
   ],
   "source": [
    "# parameter options to fit model\n",
    "param_grid = {\n",
    "    'max_depth': [None, 10, 20, 30, 40, 50],\n",
    "    'min_samples_split': [2, 10, 20],\n",
    "    'min_samples_leaf': [1, 5, 10]\n",
    "}\n",
    "\n",
    "# Initialize the grid search\n",
    "grid_search = GridSearchCV(estimator=DecisionTreeClassifier(), param_grid=param_grid, cv=5, scoring='f1', n_jobs=-1)\n",
    "grid_search.fit(Xtrain, ytrain)\n",
    "int_dt1 = grid_search.best_estimator_\n",
    "\n",
    "# model accuracy\n",
    "ypred = int_dt1.predict(Xtest)\n",
    "acc = accuracy_score(ytest, ypred)\n",
    "print(f'best decision tree accuracy: {acc}')\n",
    "\n",
    "# record performance\n",
    "prec = [round(scr, 4) for scr in precision_score(ytest, ypred, average=None)]\n",
    "f1 = [round(scr, 4) for scr in f1_score(ytest, ypred, average=None)]\n",
    "roc = round(roc_auc_score(ytest, ypred, multi_class='ovr'), 4)\n",
    "interest_perf.loc[interest_perf.index.size] = ['int_dt1', prec, f1, roc]"
   ]
  },
  {
   "cell_type": "code",
   "execution_count": 12,
   "metadata": {},
   "outputs": [
    {
     "data": {
      "text/html": [
       "<div>\n",
       "<style scoped>\n",
       "    .dataframe tbody tr th:only-of-type {\n",
       "        vertical-align: middle;\n",
       "    }\n",
       "\n",
       "    .dataframe tbody tr th {\n",
       "        vertical-align: top;\n",
       "    }\n",
       "\n",
       "    .dataframe thead th {\n",
       "        text-align: right;\n",
       "    }\n",
       "</style>\n",
       "<table border=\"1\" class=\"dataframe\">\n",
       "  <thead>\n",
       "    <tr style=\"text-align: right;\">\n",
       "      <th></th>\n",
       "      <th>model</th>\n",
       "      <th>precision</th>\n",
       "      <th>f1</th>\n",
       "      <th>roc</th>\n",
       "    </tr>\n",
       "  </thead>\n",
       "  <tbody>\n",
       "    <tr>\n",
       "      <th>0</th>\n",
       "      <td>lr</td>\n",
       "      <td>[0.8792, 0.0]</td>\n",
       "      <td>[0.9357, 0.0]</td>\n",
       "      <td>0.5000</td>\n",
       "    </tr>\n",
       "    <tr>\n",
       "      <th>1</th>\n",
       "      <td>int_lr</td>\n",
       "      <td>[0.9128, 0.1752]</td>\n",
       "      <td>[0.7537, 0.2661]</td>\n",
       "      <td>0.5977</td>\n",
       "    </tr>\n",
       "    <tr>\n",
       "      <th>2</th>\n",
       "      <td>dt</td>\n",
       "      <td>[0.9046, 0.2933]</td>\n",
       "      <td>[0.9007, 0.3021]</td>\n",
       "      <td>0.6042</td>\n",
       "    </tr>\n",
       "    <tr>\n",
       "      <th>3</th>\n",
       "      <td>int_dt1</td>\n",
       "      <td>[0.9047, 0.2935]</td>\n",
       "      <td>[0.9006, 0.3029]</td>\n",
       "      <td>0.6047</td>\n",
       "    </tr>\n",
       "  </tbody>\n",
       "</table>\n",
       "</div>"
      ],
      "text/plain": [
       "     model         precision                f1     roc\n",
       "0       lr     [0.8792, 0.0]     [0.9357, 0.0]  0.5000\n",
       "1   int_lr  [0.9128, 0.1752]  [0.7537, 0.2661]  0.5977\n",
       "2       dt  [0.9046, 0.2933]  [0.9007, 0.3021]  0.6042\n",
       "3  int_dt1  [0.9047, 0.2935]  [0.9006, 0.3029]  0.6047"
      ]
     },
     "execution_count": 12,
     "metadata": {},
     "output_type": "execute_result"
    }
   ],
   "source": [
    "interest_perf"
   ]
  },
  {
   "cell_type": "code",
   "execution_count": 14,
   "metadata": {},
   "outputs": [
    {
     "name": "stdout",
     "output_type": "stream",
     "text": [
      "default rfc accuracy: 0.8758360080320016\n"
     ]
    }
   ],
   "source": [
    "# Try Random Forest\n",
    "rfc = RandomForestClassifier()\n",
    "rfc.fit(Xtrain, ytrain)\n",
    "rfc_score = rfc.score(Xtest, ytest)\n",
    "print(f'default rfc accuracy: {rfc_score}')\n",
    "\n",
    "# record\n",
    "ypred = rfc.predict(Xtest)\n",
    "prec = [round(scr, 4) for scr in precision_score(ytest, ypred, average=None)]\n",
    "f1 = [round(scr, 3) for scr in f1_score(ytest, ypred, average=None)]\n",
    "roc = round(roc_auc_score(ytest, ypred, multi_class='ovr'), 4)\n",
    "interest_perf.loc[interest_perf.index.size] = ['rfc', prec, f1, roc]"
   ]
  },
  {
   "cell_type": "code",
   "execution_count": 15,
   "metadata": {},
   "outputs": [
    {
     "name": "stdout",
     "output_type": "stream",
     "text": [
      "default gbc accuracy: 0.8791879456733126\n"
     ]
    }
   ],
   "source": [
    "# Try Gradient Boosting\n",
    "gbc = GradientBoostingClassifier()\n",
    "gbc.fit(Xtrain, ytrain)\n",
    "gbc_score = gbc.score(Xtest, ytest)\n",
    "print(f'default gbc accuracy: {gbc_score}')\n",
    "\n",
    "# evaluate the best estimator on the test set\n",
    "ypred = gbc.predict(Xtest)\n",
    "yproba = gbc.predict_proba(Xtest)\n",
    "prec = [round(scr, 4) for scr in precision_score(ytest, ypred, average=None)]\n",
    "f1 = [round(scr, 3) for scr in f1_score(ytest, ypred, average=None)]\n",
    "roc = round(roc_auc_score(ytest, ypred, multi_class='ovr'), 4)\n",
    "interest_perf.loc[interest_perf.index.size] = ['gbc', prec, f1, roc]"
   ]
  },
  {
   "cell_type": "code",
   "execution_count": 28,
   "metadata": {},
   "outputs": [
    {
     "data": {
      "text/html": [
       "<div>\n",
       "<style scoped>\n",
       "    .dataframe tbody tr th:only-of-type {\n",
       "        vertical-align: middle;\n",
       "    }\n",
       "\n",
       "    .dataframe tbody tr th {\n",
       "        vertical-align: top;\n",
       "    }\n",
       "\n",
       "    .dataframe thead th {\n",
       "        text-align: right;\n",
       "    }\n",
       "</style>\n",
       "<table border=\"1\" class=\"dataframe\">\n",
       "  <thead>\n",
       "    <tr style=\"text-align: right;\">\n",
       "      <th></th>\n",
       "      <th>model</th>\n",
       "      <th>precision</th>\n",
       "      <th>f1</th>\n",
       "      <th>roc</th>\n",
       "    </tr>\n",
       "  </thead>\n",
       "  <tbody>\n",
       "    <tr>\n",
       "      <th>0</th>\n",
       "      <td>lr</td>\n",
       "      <td>[0.8792, 0.0]</td>\n",
       "      <td>[0.9357, 0.0]</td>\n",
       "      <td>0.5000</td>\n",
       "    </tr>\n",
       "    <tr>\n",
       "      <th>1</th>\n",
       "      <td>int_lr</td>\n",
       "      <td>[0.9128, 0.1752]</td>\n",
       "      <td>[0.7537, 0.2661]</td>\n",
       "      <td>0.5977</td>\n",
       "    </tr>\n",
       "    <tr>\n",
       "      <th>2</th>\n",
       "      <td>dt</td>\n",
       "      <td>[0.9046, 0.2933]</td>\n",
       "      <td>[0.9007, 0.3021]</td>\n",
       "      <td>0.6042</td>\n",
       "    </tr>\n",
       "    <tr>\n",
       "      <th>3</th>\n",
       "      <td>int_dt1</td>\n",
       "      <td>[0.9047, 0.2935]</td>\n",
       "      <td>[0.9006, 0.3029]</td>\n",
       "      <td>0.6047</td>\n",
       "    </tr>\n",
       "    <tr>\n",
       "      <th>4</th>\n",
       "      <td>rfc</td>\n",
       "      <td>[0.8861, 0.4107]</td>\n",
       "      <td>[0.933, 0.133]</td>\n",
       "      <td>0.5320</td>\n",
       "    </tr>\n",
       "    <tr>\n",
       "      <th>5</th>\n",
       "      <td>rfc</td>\n",
       "      <td>[0.8865, 0.4281]</td>\n",
       "      <td>[0.933, 0.138]</td>\n",
       "      <td>0.5337</td>\n",
       "    </tr>\n",
       "    <tr>\n",
       "      <th>6</th>\n",
       "      <td>gbc</td>\n",
       "      <td>[0.8793, 0.5]</td>\n",
       "      <td>[0.936, 0.003]</td>\n",
       "      <td>0.5006</td>\n",
       "    </tr>\n",
       "  </tbody>\n",
       "</table>\n",
       "</div>"
      ],
      "text/plain": [
       "     model         precision                f1     roc\n",
       "0       lr     [0.8792, 0.0]     [0.9357, 0.0]  0.5000\n",
       "1   int_lr  [0.9128, 0.1752]  [0.7537, 0.2661]  0.5977\n",
       "2       dt  [0.9046, 0.2933]  [0.9007, 0.3021]  0.6042\n",
       "3  int_dt1  [0.9047, 0.2935]  [0.9006, 0.3029]  0.6047\n",
       "4      rfc  [0.8861, 0.4107]    [0.933, 0.133]  0.5320\n",
       "5      rfc  [0.8865, 0.4281]    [0.933, 0.138]  0.5337\n",
       "6      gbc     [0.8793, 0.5]    [0.936, 0.003]  0.5006"
      ]
     },
     "execution_count": 28,
     "metadata": {},
     "output_type": "execute_result"
    }
   ],
   "source": [
    "interest_perf"
   ]
  },
  {
   "cell_type": "code",
   "execution_count": 26,
   "metadata": {},
   "outputs": [
    {
     "data": {
      "text/html": [
       "<div>\n",
       "<style scoped>\n",
       "    .dataframe tbody tr th:only-of-type {\n",
       "        vertical-align: middle;\n",
       "    }\n",
       "\n",
       "    .dataframe tbody tr th {\n",
       "        vertical-align: top;\n",
       "    }\n",
       "\n",
       "    .dataframe thead th {\n",
       "        text-align: right;\n",
       "    }\n",
       "</style>\n",
       "<table border=\"1\" class=\"dataframe\">\n",
       "  <thead>\n",
       "    <tr style=\"text-align: right;\">\n",
       "      <th></th>\n",
       "      <th>id</th>\n",
       "      <th>Gender</th>\n",
       "      <th>Age</th>\n",
       "      <th>Driving_License</th>\n",
       "      <th>Region_Code</th>\n",
       "      <th>Previously_Insured</th>\n",
       "      <th>Vehicle_Age</th>\n",
       "      <th>Vehicle_Damage</th>\n",
       "      <th>Annual_Premium</th>\n",
       "      <th>Policy_Sales_Channel</th>\n",
       "      <th>Vintage</th>\n",
       "      <th>Response</th>\n",
       "      <th>Premium_Level</th>\n",
       "      <th>Premium_Log</th>\n",
       "    </tr>\n",
       "  </thead>\n",
       "  <tbody>\n",
       "    <tr>\n",
       "      <th>0</th>\n",
       "      <td>1</td>\n",
       "      <td>1</td>\n",
       "      <td>0.360427</td>\n",
       "      <td>1</td>\n",
       "      <td>28.0</td>\n",
       "      <td>0</td>\n",
       "      <td>3</td>\n",
       "      <td>1</td>\n",
       "      <td>0.064329</td>\n",
       "      <td>26.0</td>\n",
       "      <td>0.749751</td>\n",
       "      <td>1</td>\n",
       "      <td>3.0</td>\n",
       "      <td>4.606961</td>\n",
       "    </tr>\n",
       "    <tr>\n",
       "      <th>1</th>\n",
       "      <td>2</td>\n",
       "      <td>1</td>\n",
       "      <td>2.411722</td>\n",
       "      <td>1</td>\n",
       "      <td>3.0</td>\n",
       "      <td>0</td>\n",
       "      <td>2</td>\n",
       "      <td>0</td>\n",
       "      <td>0.051376</td>\n",
       "      <td>26.0</td>\n",
       "      <td>0.343434</td>\n",
       "      <td>0</td>\n",
       "      <td>3.0</td>\n",
       "      <td>4.525511</td>\n",
       "    </tr>\n",
       "    <tr>\n",
       "      <th>2</th>\n",
       "      <td>3</td>\n",
       "      <td>1</td>\n",
       "      <td>0.552736</td>\n",
       "      <td>1</td>\n",
       "      <td>28.0</td>\n",
       "      <td>0</td>\n",
       "      <td>3</td>\n",
       "      <td>1</td>\n",
       "      <td>0.060285</td>\n",
       "      <td>26.0</td>\n",
       "      <td>-1.520840</td>\n",
       "      <td>1</td>\n",
       "      <td>3.0</td>\n",
       "      <td>4.583131</td>\n",
       "    </tr>\n",
       "    <tr>\n",
       "      <th>3</th>\n",
       "      <td>4</td>\n",
       "      <td>1</td>\n",
       "      <td>-1.113941</td>\n",
       "      <td>1</td>\n",
       "      <td>11.0</td>\n",
       "      <td>1</td>\n",
       "      <td>1</td>\n",
       "      <td>0</td>\n",
       "      <td>0.042169</td>\n",
       "      <td>152.0</td>\n",
       "      <td>0.582444</td>\n",
       "      <td>0</td>\n",
       "      <td>3.0</td>\n",
       "      <td>4.456654</td>\n",
       "    </tr>\n",
       "    <tr>\n",
       "      <th>4</th>\n",
       "      <td>5</td>\n",
       "      <td>0</td>\n",
       "      <td>-0.601117</td>\n",
       "      <td>1</td>\n",
       "      <td>41.0</td>\n",
       "      <td>1</td>\n",
       "      <td>1</td>\n",
       "      <td>0</td>\n",
       "      <td>0.040066</td>\n",
       "      <td>152.0</td>\n",
       "      <td>-1.377434</td>\n",
       "      <td>0</td>\n",
       "      <td>3.0</td>\n",
       "      <td>4.439270</td>\n",
       "    </tr>\n",
       "  </tbody>\n",
       "</table>\n",
       "</div>"
      ],
      "text/plain": [
       "   id  Gender       Age  Driving_License  Region_Code  Previously_Insured  \\\n",
       "0   1       1  0.360427                1         28.0                   0   \n",
       "1   2       1  2.411722                1          3.0                   0   \n",
       "2   3       1  0.552736                1         28.0                   0   \n",
       "3   4       1 -1.113941                1         11.0                   1   \n",
       "4   5       0 -0.601117                1         41.0                   1   \n",
       "\n",
       "   Vehicle_Age  Vehicle_Damage  Annual_Premium  Policy_Sales_Channel  \\\n",
       "0            3               1        0.064329                  26.0   \n",
       "1            2               0        0.051376                  26.0   \n",
       "2            3               1        0.060285                  26.0   \n",
       "3            1               0        0.042169                 152.0   \n",
       "4            1               0        0.040066                 152.0   \n",
       "\n",
       "    Vintage  Response  Premium_Level  Premium_Log  \n",
       "0  0.749751         1            3.0     4.606961  \n",
       "1  0.343434         0            3.0     4.525511  \n",
       "2 -1.520840         1            3.0     4.583131  \n",
       "3  0.582444         0            3.0     4.456654  \n",
       "4 -1.377434         0            3.0     4.439270  "
      ]
     },
     "execution_count": 26,
     "metadata": {},
     "output_type": "execute_result"
    }
   ],
   "source": [
    "# Numerical columns\n",
    "numerical_cols = ['Age', 'Vintage']\n",
    "\n",
    "# categorical column \n",
    "cat_col = ['Gender', 'Driving_License', 'Region_Code', 'Previously_Insured', 'Vehicle_Age', 'Vehicle_Damage', 'Policy_Sales_Channel']\n",
    "\n",
    "ss = StandardScaler()\n",
    "df2[numerical_cols] = ss.fit_transform(df2[numerical_cols])\n",
    "\n",
    "mm = MinMaxScaler()\n",
    "df2[['Annual_Premium']] = mm.fit_transform(df2[['Annual_Premium']])\n",
    "\n",
    "df2.head()\n"
   ]
  },
  {
   "cell_type": "code",
   "execution_count": 31,
   "metadata": {},
   "outputs": [],
   "source": [
    "X, y = df2.drop(columns=['Response']), df2['Response']\n",
    "Xtrain, Xtest, ytrain, ytest = train_test_split(X, y, test_size=0.2, stratify=df2[['Response']], random_state=4)"
   ]
  },
  {
   "cell_type": "code",
   "execution_count": 37,
   "metadata": {},
   "outputs": [
    {
     "name": "stdout",
     "output_type": "stream",
     "text": [
      "default decision tree accuracy: 0.8275333217385805\n"
     ]
    }
   ],
   "source": [
    "# training decision tree on default parameters\n",
    "d2 = DecisionTreeClassifier()\n",
    "d2.fit(Xtrain, ytrain)\n",
    "\n",
    "ypred = d2.predict(Xtest)\n",
    "acc = accuracy_score(ytest, ypred)\n",
    "print(f'default decision tree accuracy: {acc}')\n",
    "\n",
    "# performance table\n",
    "prec = [round(scr, 4) for scr in precision_score(ytest, ypred, average=None)]\n",
    "f1 = [round(scr, 4) for scr in f1_score(ytest, ypred, average=None)]\n",
    "roc = round(roc_auc_score(ytest, ypred, multi_class='ovr'), 4)\n",
    "interest_perf.loc[interest_perf.index.size] = ['d2', prec, f1, roc]"
   ]
  },
  {
   "cell_type": "code",
   "execution_count": 1,
   "metadata": {},
   "outputs": [
    {
     "ename": "NameError",
     "evalue": "name 'DecisionTreeClassifier' is not defined",
     "output_type": "error",
     "traceback": [
      "\u001b[1;31m---------------------------------------------------------------------------\u001b[0m",
      "\u001b[1;31mNameError\u001b[0m                                 Traceback (most recent call last)",
      "\u001b[1;32m<ipython-input-1-7669cc05a21e>\u001b[0m in \u001b[0;36m<module>\u001b[1;34m\u001b[0m\n\u001b[1;32m----> 1\u001b[1;33m \u001b[0mDecisionTreeClassifier\u001b[0m\u001b[1;33m(\u001b[0m\u001b[1;33m)\u001b[0m\u001b[1;33m\u001b[0m\u001b[1;33m\u001b[0m\u001b[0m\n\u001b[0m",
      "\u001b[1;31mNameError\u001b[0m: name 'DecisionTreeClassifier' is not defined"
     ]
    }
   ],
   "source": [
    "DecisionTreeClassifier()"
   ]
  },
  {
   "cell_type": "code",
   "execution_count": null,
   "metadata": {},
   "outputs": [],
   "source": [
    "cat_cols"
   ]
  },
  {
   "cell_type": "code",
   "execution_count": 42,
   "metadata": {},
   "outputs": [
    {
     "name": "stdout",
     "output_type": "stream",
     "text": [
      "Learning rate set to 0.123526\n",
      "0:\tlearn: 0.4893159\ttest: 0.4896925\tbest: 0.4896925 (0)\ttotal: 220ms\tremaining: 3m 39s\n",
      "100:\tlearn: 0.2561352\ttest: 0.2579724\tbest: 0.2579724 (100)\ttotal: 7.17s\tremaining: 1m 3s\n",
      "Stopped by overfitting detector  (10 iterations wait)\n",
      "\n",
      "bestTest = 0.2576436358\n",
      "bestIteration = 148\n",
      "\n",
      "Shrink model to first 149 iterations.\n",
      "Validation ROC AUC Score: 0.8649294102986619\n"
     ]
    }
   ],
   "source": [
    "from catboost import CatBoostClassifier\n",
    "\n",
    "Xtrain, Xtest, ytrain, ytest = train_test_split(X, y, test_size = 0.22, random_state = 22, stratify = y, shuffle = True)\n",
    "cat_cols = [0, 2, 3, 4, 5, 6, 8]\n",
    "\n",
    "modelC = CatBoostClassifier()\n",
    "modelC = modelC.fit(Xtrain, ytrain, eval_set = (Xtest, ytest), early_stopping_rounds = 10, verbose = 100)\n",
    "\n",
    "predictions = [pred[1] for pred in modelC.predict_proba(Xtest)]\n",
    "print('Validation ROC AUC Score:', roc_auc_score(ytest, predictions, average = 'weighted'))"
   ]
  },
  {
   "cell_type": "code",
   "execution_count": 58,
   "metadata": {},
   "outputs": [
    {
     "data": {
      "text/plain": [
       "0.5358490566037736"
      ]
     },
     "execution_count": 58,
     "metadata": {},
     "output_type": "execute_result"
    }
   ],
   "source": [
    "precision_score(ytest, ypred)"
   ]
  },
  {
   "cell_type": "code",
   "execution_count": 54,
   "metadata": {},
   "outputs": [
    {
     "data": {
      "text/plain": [
       "array([[61044,   123],\n",
       "       [ 8263,   142]], dtype=int64)"
      ]
     },
     "execution_count": 54,
     "metadata": {},
     "output_type": "execute_result"
    }
   ],
   "source": [
    "conf_matrix = confusion_matrix(ytest, ypred)\n"
   ]
  },
  {
   "cell_type": "code",
   "execution_count": 57,
   "metadata": {},
   "outputs": [
    {
     "data": {
      "text/plain": [
       "0.002010888224042376"
      ]
     },
     "execution_count": 57,
     "metadata": {},
     "output_type": "execute_result"
    }
   ],
   "source": [
    "tn, fp, fn, tp = conf_matrix.ravel()\n",
    "ffr = fp / (fp+tn)\n",
    "ffr"
   ]
  },
  {
   "cell_type": "code",
   "execution_count": null,
   "metadata": {},
   "outputs": [
    {
     "data": {
      "text/plain": [
       "0    278027\n",
       "1     38205\n",
       "Name: Response, dtype: int64"
      ]
     },
     "execution_count": 59,
     "metadata": {},
     "output_type": "execute_result"
    }
   ],
   "source": [
    "df2['Response'].value_counts()"
   ]
  },
  {
   "cell_type": "code",
   "execution_count": 53,
   "metadata": {},
   "outputs": [
    {
     "name": "stdout",
     "output_type": "stream",
     "text": [
      "              precision    recall  f1-score   support\n",
      "\n",
      "           0       0.88      1.00      0.94     55547\n",
      "           1       0.57      0.00      0.00      7700\n",
      "\n",
      "    accuracy                           0.88     63247\n",
      "   macro avg       0.72      0.50      0.47     63247\n",
      "weighted avg       0.84      0.88      0.82     63247\n",
      "\n"
     ]
    }
   ],
   "source": [
    "precision_recall_fscore_support(ytest, ypred)\n",
    "print(classification_report(ytest, ypred))"
   ]
  }
 ],
 "metadata": {
  "kernelspec": {
   "display_name": "base",
   "language": "python",
   "name": "python3"
  },
  "language_info": {
   "codemirror_mode": {
    "name": "ipython",
    "version": 3
   },
   "file_extension": ".py",
   "mimetype": "text/x-python",
   "name": "python",
   "nbconvert_exporter": "python",
   "pygments_lexer": "ipython3",
   "version": "3.8.5"
  }
 },
 "nbformat": 4,
 "nbformat_minor": 2
}

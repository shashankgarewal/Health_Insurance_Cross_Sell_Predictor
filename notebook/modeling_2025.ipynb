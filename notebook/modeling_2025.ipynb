{
 "cells": [
  {
   "cell_type": "code",
   "execution_count": 2,
   "metadata": {},
   "outputs": [],
   "source": [
    "# system\n",
    "import warnings\n",
    "import os\n",
    "\n",
    "# processing\n",
    "import pandas as pd\n",
    "import numpy as np\n",
    "import pickle\n",
    "from sklearn.preprocessing import LabelEncoder, StandardScaler, MinMaxScaler, RobustScaler\n",
    "\n",
    "# modeling\n",
    "from sklearn.model_selection import train_test_split, GridSearchCV\n",
    "from sklearn.tree import DecisionTreeClassifier\n",
    "from sklearn.ensemble import RandomForestClassifier, GradientBoostingClassifier\n",
    "from xgboost import XGBClassifier\n",
    "\n",
    "# performance \n",
    "from sklearn.metrics import make_scorer, precision_score, recall_score, f1_score, roc_auc_score, \\\n",
    "confusion_matrix, classification_report\n",
    "\n",
    "warnings.filterwarnings(\"ignore\")\n",
    "pd.set_option('display.max_columns', None)\n",
    "%config InlineBackend.figure_format = 'retina'"
   ]
  },
  {
   "cell_type": "code",
   "execution_count": 3,
   "metadata": {},
   "outputs": [
    {
     "data": {
      "text/html": [
       "<div>\n",
       "<style scoped>\n",
       "    .dataframe tbody tr th:only-of-type {\n",
       "        vertical-align: middle;\n",
       "    }\n",
       "\n",
       "    .dataframe tbody tr th {\n",
       "        vertical-align: top;\n",
       "    }\n",
       "\n",
       "    .dataframe thead th {\n",
       "        text-align: right;\n",
       "    }\n",
       "</style>\n",
       "<table border=\"1\" class=\"dataframe\">\n",
       "  <thead>\n",
       "    <tr style=\"text-align: right;\">\n",
       "      <th></th>\n",
       "      <th>id</th>\n",
       "      <th>Gender</th>\n",
       "      <th>Age</th>\n",
       "      <th>Driving_License</th>\n",
       "      <th>Region_Code</th>\n",
       "      <th>Previously_Insured</th>\n",
       "      <th>Vehicle_Age</th>\n",
       "      <th>Vehicle_Damage</th>\n",
       "      <th>Annual_Premium</th>\n",
       "      <th>Policy_Sales_Channel</th>\n",
       "      <th>Vintage</th>\n",
       "      <th>Response</th>\n",
       "      <th>Premium_Level</th>\n",
       "      <th>Premium_Log</th>\n",
       "    </tr>\n",
       "  </thead>\n",
       "  <tbody>\n",
       "    <tr>\n",
       "      <th>0</th>\n",
       "      <td>1</td>\n",
       "      <td>1</td>\n",
       "      <td>44</td>\n",
       "      <td>1</td>\n",
       "      <td>28.0</td>\n",
       "      <td>0</td>\n",
       "      <td>3</td>\n",
       "      <td>1</td>\n",
       "      <td>40454.0</td>\n",
       "      <td>26.0</td>\n",
       "      <td>217</td>\n",
       "      <td>1</td>\n",
       "      <td>3.0</td>\n",
       "      <td>4.606961</td>\n",
       "    </tr>\n",
       "    <tr>\n",
       "      <th>1</th>\n",
       "      <td>2</td>\n",
       "      <td>1</td>\n",
       "      <td>76</td>\n",
       "      <td>1</td>\n",
       "      <td>3.0</td>\n",
       "      <td>0</td>\n",
       "      <td>2</td>\n",
       "      <td>0</td>\n",
       "      <td>33536.0</td>\n",
       "      <td>26.0</td>\n",
       "      <td>183</td>\n",
       "      <td>0</td>\n",
       "      <td>3.0</td>\n",
       "      <td>4.525511</td>\n",
       "    </tr>\n",
       "    <tr>\n",
       "      <th>2</th>\n",
       "      <td>3</td>\n",
       "      <td>1</td>\n",
       "      <td>47</td>\n",
       "      <td>1</td>\n",
       "      <td>28.0</td>\n",
       "      <td>0</td>\n",
       "      <td>3</td>\n",
       "      <td>1</td>\n",
       "      <td>38294.0</td>\n",
       "      <td>26.0</td>\n",
       "      <td>27</td>\n",
       "      <td>1</td>\n",
       "      <td>3.0</td>\n",
       "      <td>4.583131</td>\n",
       "    </tr>\n",
       "    <tr>\n",
       "      <th>3</th>\n",
       "      <td>4</td>\n",
       "      <td>1</td>\n",
       "      <td>21</td>\n",
       "      <td>1</td>\n",
       "      <td>11.0</td>\n",
       "      <td>1</td>\n",
       "      <td>1</td>\n",
       "      <td>0</td>\n",
       "      <td>28619.0</td>\n",
       "      <td>152.0</td>\n",
       "      <td>203</td>\n",
       "      <td>0</td>\n",
       "      <td>3.0</td>\n",
       "      <td>4.456654</td>\n",
       "    </tr>\n",
       "    <tr>\n",
       "      <th>4</th>\n",
       "      <td>5</td>\n",
       "      <td>0</td>\n",
       "      <td>29</td>\n",
       "      <td>1</td>\n",
       "      <td>41.0</td>\n",
       "      <td>1</td>\n",
       "      <td>1</td>\n",
       "      <td>0</td>\n",
       "      <td>27496.0</td>\n",
       "      <td>152.0</td>\n",
       "      <td>39</td>\n",
       "      <td>0</td>\n",
       "      <td>3.0</td>\n",
       "      <td>4.439270</td>\n",
       "    </tr>\n",
       "  </tbody>\n",
       "</table>\n",
       "</div>"
      ],
      "text/plain": [
       "   id  Gender  Age  Driving_License  Region_Code  Previously_Insured  \\\n",
       "0   1       1   44                1         28.0                   0   \n",
       "1   2       1   76                1          3.0                   0   \n",
       "2   3       1   47                1         28.0                   0   \n",
       "3   4       1   21                1         11.0                   1   \n",
       "4   5       0   29                1         41.0                   1   \n",
       "\n",
       "   Vehicle_Age  Vehicle_Damage  Annual_Premium  Policy_Sales_Channel  Vintage  \\\n",
       "0            3               1         40454.0                  26.0      217   \n",
       "1            2               0         33536.0                  26.0      183   \n",
       "2            3               1         38294.0                  26.0       27   \n",
       "3            1               0         28619.0                 152.0      203   \n",
       "4            1               0         27496.0                 152.0       39   \n",
       "\n",
       "   Response  Premium_Level  Premium_Log  \n",
       "0         1            3.0     4.606961  \n",
       "1         0            3.0     4.525511  \n",
       "2         1            3.0     4.583131  \n",
       "3         0            3.0     4.456654  \n",
       "4         0            3.0     4.439270  "
      ]
     },
     "execution_count": 3,
     "metadata": {},
     "output_type": "execute_result"
    }
   ],
   "source": [
    "df = pd.read_csv('../artifacts/data.csv')\n",
    "df1 = df.query('Premium_Level == 1')\n",
    "df2 = df.query('Premium_Level > 1')\n",
    "df.head()"
   ]
  },
  {
   "cell_type": "code",
   "execution_count": 4,
   "metadata": {},
   "outputs": [
    {
     "name": "stdout",
     "output_type": "stream",
     "text": [
      "df1 Response\n",
      "0    0.868906\n",
      "1    0.131094\n",
      "Name: proportion, dtype: float64\n",
      "df2 Response\n",
      "0    0.879187\n",
      "1    0.120813\n",
      "Name: proportion, dtype: float64\n"
     ]
    }
   ],
   "source": [
    "print('df1', df1['Response'].value_counts(normalize=True))\n",
    "print('df2', df2['Response'].value_counts(normalize=True))"
   ]
  },
  {
   "cell_type": "code",
   "execution_count": 5,
   "metadata": {},
   "outputs": [
    {
     "name": "stdout",
     "output_type": "stream",
     "text": [
      "df1: \n",
      " Previously_Insured  Response\n",
      "0                   0           0.795459\n",
      "                    1           0.204541\n",
      "1                   0           0.998466\n",
      "                    1           0.001534\n",
      "Name: proportion, dtype: float64\n",
      "df2: \n",
      " Previously_Insured  Response\n",
      "0                   0           0.769300\n",
      "                    1           0.230700\n",
      "1                   0           0.999193\n",
      "                    1           0.000807\n",
      "Name: proportion, dtype: float64\n"
     ]
    }
   ],
   "source": [
    "print('df1: \\n', df1.groupby(['Previously_Insured'])['Response'].value_counts(normalize=True))\n",
    "\n",
    "print('df2: \\n', df2.groupby(['Previously_Insured'])['Response'].value_counts(normalize=True))"
   ]
  },
  {
   "cell_type": "markdown",
   "metadata": {},
   "source": [
    "There is no specific need to keep the premium level 1 seperate."
   ]
  },
  {
   "cell_type": "code",
   "execution_count": 6,
   "metadata": {},
   "outputs": [
    {
     "data": {
      "text/plain": [
       "Gender                       2\n",
       "Driving_License              2\n",
       "Previously_Insured           2\n",
       "Vehicle_Damage               2\n",
       "Response                     2\n",
       "Vehicle_Age                  3\n",
       "Premium_Level                5\n",
       "Region_Code                 53\n",
       "Age                         66\n",
       "Policy_Sales_Channel       155\n",
       "Vintage                    290\n",
       "Annual_Premium           48838\n",
       "Premium_Log              48838\n",
       "id                      381109\n",
       "dtype: int64"
      ]
     },
     "execution_count": 6,
     "metadata": {},
     "output_type": "execute_result"
    }
   ],
   "source": [
    "df.nunique().sort_values()"
   ]
  },
  {
   "cell_type": "markdown",
   "metadata": {},
   "source": [
    "Given the imbalance nature of data on target variable (response), accuracy_score is not an optimal metric to track model performance.\n",
    "\n",
    "The choice of metrics largely depends on business outcome we expects from customer response. \n",
    "\n",
    "- Minimize false positives (FP) (e.g., marketing costs), prioritize  precision or F0.5-score.\n",
    "- Minimize false negatives (FN) (e.g., missed responders), prioitize Recall or F2-score.\n",
    "- for balance between both, priotize F1-score or PR-AUC (threshold-independent evaluator)."
   ]
  },
  {
   "cell_type": "markdown",
   "metadata": {},
   "source": [
    "Given the client is trying to cross selling vehical insurance and only 12% response rate, it is best to maximize true positive (1) response ~ don't miss positive response ~ minimize false negative.\n",
    "\n",
    "\n",
    "In previous attempt, the model performance for positive has remain low. Following things can be done to improve positive response prediction:\n",
    "\n",
    "- scaling predictors: minmax or robust would work\n",
    "- trying prediction probability threshold: we need to reduce threshold to get more positive response in predicition.\n",
    "\n",
    "since we also have to check with different thresholds, we should use threshold independent parameter."
   ]
  },
  {
   "cell_type": "markdown",
   "metadata": {},
   "source": [
    "# Data rescaling"
   ]
  },
  {
   "cell_type": "code",
   "execution_count": 7,
   "metadata": {},
   "outputs": [],
   "source": [
    "# rs = RobustScaler()\n",
    "# df[df.columns.drop('Response', 'id')] = rs.fit_transform(df.drop('Response', axis=1))\n",
    "\n",
    "mm = MinMaxScaler() \n",
    "cols_to_scale = df.columns.drop(['Response', 'id'])\n",
    "df[cols_to_scale] = mm.fit_transform(df[cols_to_scale])\n",
    "\n",
    "Xtrain, Xtest, ytrain, ytest = train_test_split(df[cols_to_scale], df['Response'], random_state=42, test_size=0.3, stratify=df['Response'])"
   ]
  },
  {
   "cell_type": "code",
   "execution_count": 8,
   "metadata": {},
   "outputs": [
    {
     "name": "stdout",
     "output_type": "stream",
     "text": [
      "              precision    recall  f1-score   support\n",
      "\n",
      "           0       1.00      1.00      1.00    234079\n",
      "           1       1.00      1.00      1.00     32697\n",
      "\n",
      "    accuracy                           1.00    266776\n",
      "   macro avg       1.00      1.00      1.00    266776\n",
      "weighted avg       1.00      1.00      1.00    266776\n",
      "\n",
      "              precision    recall  f1-score   support\n",
      "\n",
      "           0       0.90      0.89      0.90    100320\n",
      "           1       0.30      0.32      0.31     14013\n",
      "\n",
      "    accuracy                           0.82    114333\n",
      "   macro avg       0.60      0.61      0.60    114333\n",
      "weighted avg       0.83      0.82      0.83    114333\n",
      "\n"
     ]
    }
   ],
   "source": [
    "dtc = DecisionTreeClassifier(random_state=42)\n",
    "dtc.fit(Xtrain, ytrain)\n",
    "print(classification_report(ytrain, dtc.predict(Xtrain)))\n",
    "print(classification_report(ytest, dtc.predict(Xtest)))"
   ]
  },
  {
   "cell_type": "code",
   "execution_count": 9,
   "metadata": {},
   "outputs": [
    {
     "name": "stdout",
     "output_type": "stream",
     "text": [
      "              precision    recall  f1-score   support\n",
      "\n",
      "           0       0.90      0.90      0.90    100320\n",
      "           1       0.29      0.30      0.30     14013\n",
      "\n",
      "    accuracy                           0.82    114333\n",
      "   macro avg       0.60      0.60      0.60    114333\n",
      "weighted avg       0.83      0.82      0.83    114333\n",
      "\n"
     ]
    }
   ],
   "source": [
    "dtc = DecisionTreeClassifier(criterion='log_loss', random_state=42)\n",
    "dtc.fit(Xtrain, ytrain)\n",
    "print(classification_report(ytest, dtc.predict(Xtest)))"
   ]
  },
  {
   "cell_type": "markdown",
   "metadata": {},
   "source": [
    "As the model is not improving, the issue lies in the data imbalance. The model is unable to perform on well on the minority class. \n",
    "apart from threshold handling, we can try model with class weighting and resampling. "
   ]
  },
  {
   "cell_type": "markdown",
   "metadata": {},
   "source": [
    "# class weighting"
   ]
  },
  {
   "cell_type": "code",
   "execution_count": 10,
   "metadata": {},
   "outputs": [
    {
     "name": "stdout",
     "output_type": "stream",
     "text": [
      "              precision    recall  f1-score   support\n",
      "\n",
      "           0       0.98      0.69      0.81    100320\n",
      "           1       0.29      0.91      0.44     14013\n",
      "\n",
      "    accuracy                           0.72    114333\n",
      "   macro avg       0.64      0.80      0.62    114333\n",
      "weighted avg       0.90      0.72      0.76    114333\n",
      "\n"
     ]
    }
   ],
   "source": [
    "xgb = XGBClassifier(scale_pos_weight = 88/12, random_state=42)\n",
    "xgb.fit(Xtrain, ytrain)\n",
    "print(classification_report(ytest, xgb.predict(Xtest)))"
   ]
  },
  {
   "cell_type": "code",
   "execution_count": 11,
   "metadata": {},
   "outputs": [
    {
     "name": "stdout",
     "output_type": "stream",
     "text": [
      "[[69121 31199]\n",
      " [ 1331 12682]]\n"
     ]
    }
   ],
   "source": [
    "print(confusion_matrix(ytest, xgb.predict(Xtest)))"
   ]
  },
  {
   "cell_type": "markdown",
   "metadata": {},
   "source": [
    "# resampling"
   ]
  },
  {
   "cell_type": "code",
   "execution_count": 12,
   "metadata": {},
   "outputs": [
    {
     "data": {
      "text/plain": [
       "Response\n",
       "0    234079\n",
       "1     32697\n",
       "Name: count, dtype: int64"
      ]
     },
     "execution_count": 12,
     "metadata": {},
     "output_type": "execute_result"
    }
   ],
   "source": [
    "ytrain.value_counts()"
   ]
  },
  {
   "cell_type": "markdown",
   "metadata": {},
   "source": [
    "response 1 has 32_697 record, undersampling would result in around 65_394 records which is sufficient for modeling."
   ]
  },
  {
   "cell_type": "code",
   "execution_count": null,
   "metadata": {},
   "outputs": [],
   "source": [
    "# tree are overfitting, trying svm -- svm is slow on large dataset\n",
    "from sklearn.svm import SVC\n",
    "\n",
    "dtc_bal = DecisionTreeClassifier(random_state=42, class_weight=\"balanced\")\n",
    "dtc_bal.fit(Xtrain, ytrain)\n",
    "\n",
    "print(classification_report(ytrain, dtc_bal.predict(Xtrain)))\n",
    "print(classification_report(ytest, dtc_bal.predict(Xtest)))"
   ]
  },
  {
   "cell_type": "code",
   "execution_count": null,
   "metadata": {},
   "outputs": [
    {
     "name": "stdout",
     "output_type": "stream",
     "text": [
      "Response\n",
      "0    32697\n",
      "1    32697\n",
      "Name: count, dtype: int64\n"
     ]
    }
   ],
   "source": [
    "from sklearn.utils import resample\n",
    "\n",
    "train_majority = Xtrain[ytrain == 0]\n",
    "train_minority = Xtrain[ytrain == 1]\n",
    "\n",
    "train_majority_downsampled = resample(train_majority, \n",
    "                                      replace=False,    \n",
    "                                      n_samples=len(train_minority),  \n",
    "                                      random_state=42)  \n",
    "\n",
    "Xtrain_under = pd.concat([train_majority_downsampled, train_minority])\n",
    "ytrain_under = pd.concat([ytrain[train_majority_downsampled.index], ytrain[train_minority.index]])\n",
    "\n",
    "print(ytrain_under.value_counts())"
   ]
  },
  {
   "cell_type": "code",
   "execution_count": 17,
   "metadata": {},
   "outputs": [
    {
     "name": "stdout",
     "output_type": "stream",
     "text": [
      "              precision    recall  f1-score   support\n",
      "\n",
      "           0       0.95      0.72      0.82    100320\n",
      "           1       0.26      0.70      0.38     14013\n",
      "\n",
      "    accuracy                           0.72    114333\n",
      "   macro avg       0.60      0.71      0.60    114333\n",
      "weighted avg       0.86      0.72      0.77    114333\n",
      "\n"
     ]
    }
   ],
   "source": [
    "dtc_resample = DecisionTreeClassifier(random_state=42)\n",
    "dtc_resample.fit(Xtrain_under, ytrain_under)\n",
    "print(classification_report(ytest, dtc_resample.predict(Xtest)))"
   ]
  },
  {
   "cell_type": "code",
   "execution_count": 23,
   "metadata": {},
   "outputs": [
    {
     "name": "stdout",
     "output_type": "stream",
     "text": [
      "              precision    recall  f1-score   support\n",
      "\n",
      "           0       1.00      1.00      1.00     32697\n",
      "           1       1.00      1.00      1.00     32697\n",
      "\n",
      "    accuracy                           1.00     65394\n",
      "   macro avg       1.00      1.00      1.00     65394\n",
      "weighted avg       1.00      1.00      1.00     65394\n",
      "\n"
     ]
    }
   ],
   "source": [
    "print(classification_report(ytrain_under, dtc_resample.predict(Xtrain_under)))\n"
   ]
  },
  {
   "cell_type": "code",
   "execution_count": 24,
   "metadata": {},
   "outputs": [
    {
     "name": "stdout",
     "output_type": "stream",
     "text": [
      "              precision    recall  f1-score   support\n",
      "\n",
      "           0       1.00      1.00      1.00    234079\n",
      "           1       1.00      1.00      1.00     32697\n",
      "\n",
      "    accuracy                           1.00    266776\n",
      "   macro avg       1.00      1.00      1.00    266776\n",
      "weighted avg       1.00      1.00      1.00    266776\n",
      "\n"
     ]
    }
   ],
   "source": [
    "print(classification_report(ytrain, dtc.predict(Xtrain)))\n"
   ]
  },
  {
   "cell_type": "markdown",
   "metadata": {},
   "source": [
    "we are observing overfitting, even on model before undersampling."
   ]
  },
  {
   "cell_type": "code",
   "execution_count": null,
   "metadata": {},
   "outputs": [],
   "source": []
  },
  {
   "cell_type": "code",
   "execution_count": null,
   "metadata": {},
   "outputs": [
    {
     "data": {
      "image/png": "[encoded data removed]",
      "text/plain": [
       "<Figure size 640x480 with 1 Axes>"
      ]
     },
     "metadata": {
      "image/png": {
       "height": 454,
       "width": 567
      }
     },
     "output_type": "display_data"
    },
    {
     "data": {
      "text/plain": [
       "(<matplotlib.legend.Legend at 0x211f5407c40>, None)"
      ]
     },
     "execution_count": 10,
     "metadata": {},
     "output_type": "execute_result"
    }
   ],
   "source": [
    "from sklearn.metrics import roc_auc_score, roc_curve\n",
    "import matplotlib.pyplot as plt\n",
    "\n",
    "# Compute ROC AUC\n",
    "yprobs = dtc.predict_proba(Xtest)[:, 1]\n",
    "auc_score = roc_auc_score(ytest, yprobs)\n",
    "\n",
    "# Plot ROC Curve\n",
    "fpr, tpr, _ = roc_curve(ytest, yprobs)\n",
    "plt.plot(fpr, tpr, label=f'ROC AUC = {auc_score:.2f}')\n",
    "plt.plot([0, 1], [0, 1], 'k--')\n",
    "plt.xlabel('FPR'), plt.ylabel('TPR'), plt.title('ROC Curve')\n",
    "plt.legend(), plt.show()"
   ]
  },
  {
   "cell_type": "code",
   "execution_count": null,
   "metadata": {},
   "outputs": [],
   "source": []
  },
  {
   "cell_type": "code",
   "execution_count": null,
   "metadata": {},
   "outputs": [],
   "source": [
    "# Wrap classifier model within a class with threshold parameter\n",
    "class ThresholdedClassifier:\n",
    "    def __init__(self, model, threshold=0.5):\n",
    "        self.model = model\n",
    "        self.threshold = threshold\n",
    "\n",
    "    def fit(self, X, y):\n",
    "        self.model.fit(X, y)\n",
    "\n",
    "    def predict(self, X):\n",
    "        return (self.model.predict_proba(X)[:, 1] >= self.threshold).astype(int)\n",
    "\n",
    "    def predict_proba(self, X):\n",
    "        return self.model.predict_proba(X)\n",
    "    \n",
    "# custom scoring with threshold\n",
    "def threshold_scorer(ytrue, ypred_prob, threshold=0.5):\n",
    "    ypred = (ypred_prob[:, 1] >= threshold).astype(int)\n",
    "    return f1_score(ytrue, ypred)"
   ]
  },
  {
   "cell_type": "code",
   "execution_count": 15,
   "metadata": {},
   "outputs": [
    {
     "ename": "TypeError",
     "evalue": "Cannot clone object '<__main__.ThresholdedClassifier object at 0x000002005D6B42B0>' (type <class '__main__.ThresholdedClassifier'>): it does not seem to be a scikit-learn estimator as it does not implement a 'get_params' method.",
     "output_type": "error",
     "traceback": [
      "\u001b[1;31m---------------------------------------------------------------------------\u001b[0m",
      "\u001b[1;31mTypeError\u001b[0m                                 Traceback (most recent call last)",
      "Cell \u001b[1;32mIn[15], line 12\u001b[0m\n\u001b[0;32m      5\u001b[0m \u001b[38;5;66;03m# Perform grid search\u001b[39;00m\n\u001b[0;32m      6\u001b[0m grid_search \u001b[38;5;241m=\u001b[39m GridSearchCV(\n\u001b[0;32m      7\u001b[0m     estimator\u001b[38;5;241m=\u001b[39mThresholdedClassifier(DecisionTreeClassifier(random_state\u001b[38;5;241m=\u001b[39m\u001b[38;5;241m42\u001b[39m), threshold\u001b[38;5;241m=\u001b[39m\u001b[38;5;241m0.5\u001b[39m),\n\u001b[0;32m      8\u001b[0m     scoring\u001b[38;5;241m=\u001b[39mmake_scorer(threshold_scorer, greater_is_better\u001b[38;5;241m=\u001b[39m\u001b[38;5;28;01mTrue\u001b[39;00m),\n\u001b[0;32m      9\u001b[0m     param_grid\u001b[38;5;241m=\u001b[39mparam_grid, n_jobs\u001b[38;5;241m=\u001b[39m\u001b[38;5;241m-\u001b[39m\u001b[38;5;241m1\u001b[39m, cv\u001b[38;5;241m=\u001b[39m\u001b[38;5;241m3\u001b[39m\n\u001b[0;32m     10\u001b[0m )\n\u001b[1;32m---> 12\u001b[0m \u001b[43mgrid_search\u001b[49m\u001b[38;5;241;43m.\u001b[39;49m\u001b[43mfit\u001b[49m\u001b[43m(\u001b[49m\u001b[43mXtrain\u001b[49m\u001b[43m,\u001b[49m\u001b[43m \u001b[49m\u001b[43mytrain\u001b[49m\u001b[43m)\u001b[49m\n",
      "File \u001b[1;32mz:\\Google\\Anaconda\\lib\\site-packages\\sklearn\\base.py:1151\u001b[0m, in \u001b[0;36m_fit_context.<locals>.decorator.<locals>.wrapper\u001b[1;34m(estimator, *args, **kwargs)\u001b[0m\n\u001b[0;32m   1144\u001b[0m     estimator\u001b[38;5;241m.\u001b[39m_validate_params()\n\u001b[0;32m   1146\u001b[0m \u001b[38;5;28;01mwith\u001b[39;00m config_context(\n\u001b[0;32m   1147\u001b[0m     skip_parameter_validation\u001b[38;5;241m=\u001b[39m(\n\u001b[0;32m   1148\u001b[0m         prefer_skip_nested_validation \u001b[38;5;129;01mor\u001b[39;00m global_skip_validation\n\u001b[0;32m   1149\u001b[0m     )\n\u001b[0;32m   1150\u001b[0m ):\n\u001b[1;32m-> 1151\u001b[0m     \u001b[38;5;28;01mreturn\u001b[39;00m \u001b[43mfit_method\u001b[49m\u001b[43m(\u001b[49m\u001b[43mestimator\u001b[49m\u001b[43m,\u001b[49m\u001b[43m \u001b[49m\u001b[38;5;241;43m*\u001b[39;49m\u001b[43margs\u001b[49m\u001b[43m,\u001b[49m\u001b[43m \u001b[49m\u001b[38;5;241;43m*\u001b[39;49m\u001b[38;5;241;43m*\u001b[39;49m\u001b[43mkwargs\u001b[49m\u001b[43m)\u001b[49m\n",
      "File \u001b[1;32mz:\\Google\\Anaconda\\lib\\site-packages\\sklearn\\model_selection\\_search.py:812\u001b[0m, in \u001b[0;36mBaseSearchCV.fit\u001b[1;34m(self, X, y, groups, **fit_params)\u001b[0m\n\u001b[0;32m    809\u001b[0m cv_orig \u001b[38;5;241m=\u001b[39m check_cv(\u001b[38;5;28mself\u001b[39m\u001b[38;5;241m.\u001b[39mcv, y, classifier\u001b[38;5;241m=\u001b[39mis_classifier(estimator))\n\u001b[0;32m    810\u001b[0m n_splits \u001b[38;5;241m=\u001b[39m cv_orig\u001b[38;5;241m.\u001b[39mget_n_splits(X, y, groups)\n\u001b[1;32m--> 812\u001b[0m base_estimator \u001b[38;5;241m=\u001b[39m \u001b[43mclone\u001b[49m\u001b[43m(\u001b[49m\u001b[38;5;28;43mself\u001b[39;49m\u001b[38;5;241;43m.\u001b[39;49m\u001b[43mestimator\u001b[49m\u001b[43m)\u001b[49m\n\u001b[0;32m    814\u001b[0m parallel \u001b[38;5;241m=\u001b[39m Parallel(n_jobs\u001b[38;5;241m=\u001b[39m\u001b[38;5;28mself\u001b[39m\u001b[38;5;241m.\u001b[39mn_jobs, pre_dispatch\u001b[38;5;241m=\u001b[39m\u001b[38;5;28mself\u001b[39m\u001b[38;5;241m.\u001b[39mpre_dispatch)\n\u001b[0;32m    816\u001b[0m fit_and_score_kwargs \u001b[38;5;241m=\u001b[39m \u001b[38;5;28mdict\u001b[39m(\n\u001b[0;32m    817\u001b[0m     scorer\u001b[38;5;241m=\u001b[39mscorers,\n\u001b[0;32m    818\u001b[0m     fit_params\u001b[38;5;241m=\u001b[39mfit_params,\n\u001b[1;32m   (...)\u001b[0m\n\u001b[0;32m    824\u001b[0m     verbose\u001b[38;5;241m=\u001b[39m\u001b[38;5;28mself\u001b[39m\u001b[38;5;241m.\u001b[39mverbose,\n\u001b[0;32m    825\u001b[0m )\n",
      "File \u001b[1;32mz:\\Google\\Anaconda\\lib\\site-packages\\sklearn\\base.py:76\u001b[0m, in \u001b[0;36mclone\u001b[1;34m(estimator, safe)\u001b[0m\n\u001b[0;32m     74\u001b[0m \u001b[38;5;28;01mif\u001b[39;00m \u001b[38;5;28mhasattr\u001b[39m(estimator, \u001b[38;5;124m\"\u001b[39m\u001b[38;5;124m__sklearn_clone__\u001b[39m\u001b[38;5;124m\"\u001b[39m) \u001b[38;5;129;01mand\u001b[39;00m \u001b[38;5;129;01mnot\u001b[39;00m inspect\u001b[38;5;241m.\u001b[39misclass(estimator):\n\u001b[0;32m     75\u001b[0m     \u001b[38;5;28;01mreturn\u001b[39;00m estimator\u001b[38;5;241m.\u001b[39m__sklearn_clone__()\n\u001b[1;32m---> 76\u001b[0m \u001b[38;5;28;01mreturn\u001b[39;00m \u001b[43m_clone_parametrized\u001b[49m\u001b[43m(\u001b[49m\u001b[43mestimator\u001b[49m\u001b[43m,\u001b[49m\u001b[43m \u001b[49m\u001b[43msafe\u001b[49m\u001b[38;5;241;43m=\u001b[39;49m\u001b[43msafe\u001b[49m\u001b[43m)\u001b[49m\n",
      "File \u001b[1;32mz:\\Google\\Anaconda\\lib\\site-packages\\sklearn\\base.py:97\u001b[0m, in \u001b[0;36m_clone_parametrized\u001b[1;34m(estimator, safe)\u001b[0m\n\u001b[0;32m     91\u001b[0m             \u001b[38;5;28;01mraise\u001b[39;00m \u001b[38;5;167;01mTypeError\u001b[39;00m(\n\u001b[0;32m     92\u001b[0m                 \u001b[38;5;124m\"\u001b[39m\u001b[38;5;124mCannot clone object. \u001b[39m\u001b[38;5;124m\"\u001b[39m\n\u001b[0;32m     93\u001b[0m                 \u001b[38;5;241m+\u001b[39m \u001b[38;5;124m\"\u001b[39m\u001b[38;5;124mYou should provide an instance of \u001b[39m\u001b[38;5;124m\"\u001b[39m\n\u001b[0;32m     94\u001b[0m                 \u001b[38;5;241m+\u001b[39m \u001b[38;5;124m\"\u001b[39m\u001b[38;5;124mscikit-learn estimator instead of a class.\u001b[39m\u001b[38;5;124m\"\u001b[39m\n\u001b[0;32m     95\u001b[0m             )\n\u001b[0;32m     96\u001b[0m         \u001b[38;5;28;01melse\u001b[39;00m:\n\u001b[1;32m---> 97\u001b[0m             \u001b[38;5;28;01mraise\u001b[39;00m \u001b[38;5;167;01mTypeError\u001b[39;00m(\n\u001b[0;32m     98\u001b[0m                 \u001b[38;5;124m\"\u001b[39m\u001b[38;5;124mCannot clone object \u001b[39m\u001b[38;5;124m'\u001b[39m\u001b[38;5;132;01m%s\u001b[39;00m\u001b[38;5;124m'\u001b[39m\u001b[38;5;124m (type \u001b[39m\u001b[38;5;132;01m%s\u001b[39;00m\u001b[38;5;124m): \u001b[39m\u001b[38;5;124m\"\u001b[39m\n\u001b[0;32m     99\u001b[0m                 \u001b[38;5;124m\"\u001b[39m\u001b[38;5;124mit does not seem to be a scikit-learn \u001b[39m\u001b[38;5;124m\"\u001b[39m\n\u001b[0;32m    100\u001b[0m                 \u001b[38;5;124m\"\u001b[39m\u001b[38;5;124mestimator as it does not implement a \u001b[39m\u001b[38;5;124m\"\u001b[39m\n\u001b[0;32m    101\u001b[0m                 \u001b[38;5;124m\"\u001b[39m\u001b[38;5;124m'\u001b[39m\u001b[38;5;124mget_params\u001b[39m\u001b[38;5;124m'\u001b[39m\u001b[38;5;124m method.\u001b[39m\u001b[38;5;124m\"\u001b[39m \u001b[38;5;241m%\u001b[39m (\u001b[38;5;28mrepr\u001b[39m(estimator), \u001b[38;5;28mtype\u001b[39m(estimator))\n\u001b[0;32m    102\u001b[0m             )\n\u001b[0;32m    104\u001b[0m klass \u001b[38;5;241m=\u001b[39m estimator\u001b[38;5;241m.\u001b[39m\u001b[38;5;18m__class__\u001b[39m\n\u001b[0;32m    105\u001b[0m new_object_params \u001b[38;5;241m=\u001b[39m estimator\u001b[38;5;241m.\u001b[39mget_params(deep\u001b[38;5;241m=\u001b[39m\u001b[38;5;28;01mFalse\u001b[39;00m)\n",
      "\u001b[1;31mTypeError\u001b[0m: Cannot clone object '<__main__.ThresholdedClassifier object at 0x000002005D6B42B0>' (type <class '__main__.ThresholdedClassifier'>): it does not seem to be a scikit-learn estimator as it does not implement a 'get_params' method."
     ]
    }
   ],
   "source": [
    "param_grid = {\n",
    "    'threshold': [0.1, 0.2, 0.3, 0.4]\n",
    "}\n",
    "\n",
    "# Perform grid search\n",
    "grid_search = GridSearchCV(\n",
    "    estimator=ThresholdedClassifier(DecisionTreeClassifier(random_state=42), threshold=0.5),\n",
    "    scoring=make_scorer(threshold_scorer, greater_is_better=True),\n",
    "    param_grid=param_grid, n_jobs=-1, cv=3\n",
    ")\n",
    "\n",
    "grid_search.fit(Xtrain, ytrain)"
   ]
  },
  {
   "cell_type": "code",
   "execution_count": null,
   "metadata": {},
   "outputs": [],
   "source": [
    "# Try Gradient Boosting\n",
    "gbc = GradientBoostingClassifier()\n",
    "gbc.fit(Xtrain, ytrain)\n",
    "\n",
    "# evaluate the best estimator on the test set\n",
    "ypred = gbc.predict(Xtest)\n",
    "yproba = gbc.predict_proba(Xtest)\n",
    "\n",
    "gbc_score = precision_score(ytest, gbc.predict(Xtest))\n",
    "print(f'default gbc precision: {gbc_score}')\n",
    "\n",
    "prec = [round(scr, 4) for scr in precision_score(ytest, ypred, average=None)]\n",
    "f1 = [round(scr, 3) for scr in f1_score(ytest, ypred, average=None)]\n",
    "roc = round(roc_auc_score(ytest, ypred, multi_class='ovr'), 4)\n",
    "interest_perf.loc[interest_perf.index.size] = ['gbc', prec, f1, roc]"
   ]
  },
  {
   "cell_type": "code",
   "execution_count": null,
   "metadata": {},
   "outputs": [],
   "source": []
  }
 ],
 "metadata": {
  "kernelspec": {
   "display_name": "Python 3",
   "language": "python",
   "name": "python3"
  },
  "language_info": {
   "codemirror_mode": {
    "name": "ipython",
    "version": 3
   },
   "file_extension": ".py",
   "mimetype": "text/x-python",
   "name": "python",
   "nbconvert_exporter": "python",
   "pygments_lexer": "ipython3",
   "version": "3.8.19"
  }
 },
 "nbformat": 4,
 "nbformat_minor": 2
}
